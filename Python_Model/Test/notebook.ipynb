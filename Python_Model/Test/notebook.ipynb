{
 "cells": [
  {
   "cell_type": "code",
   "execution_count": 8,
   "metadata": {},
   "outputs": [],
   "source": [
    "fitables = [\n",
    "    {'label': 'a', 'value': 5.125, 'error': 0.274, 'refine': True},\n",
    "    {'label': 'b', 'value': 7.125, 'error': 0.521, 'refine': False},\n",
    "    {'label': 'c', 'value': 4.925, 'error': 0.301, 'refine': False},\n",
    "]"
   ]
  },
  {
   "cell_type": "code",
   "execution_count": 9,
   "metadata": {},
   "outputs": [
    {
     "data": {
      "text/plain": [
       "5.125"
      ]
     },
     "execution_count": 9,
     "metadata": {},
     "output_type": "execute_result"
    }
   ],
   "source": [
    "fitables[0]['value']"
   ]
  },
  {
   "cell_type": "code",
   "execution_count": 10,
   "metadata": {},
   "outputs": [],
   "source": [
    "fitables = {\n",
    "    'atom_site_fract_a': {'label': 'a', 'value': 5.125, 'error': 0.274, 'refine': True},\n",
    "    'atom_site_fract_b': {'label': 'b', 'value': 7.125, 'error': 0.521, 'refine': False},\n",
    "    'atom_site_fract_c': {'label': 'c', 'value': 4.925, 'error': 0.301, 'refine': False},\n",
    "}"
   ]
  },
  {
   "cell_type": "code",
   "execution_count": 11,
   "metadata": {},
   "outputs": [
    {
     "data": {
      "text/plain": [
       "5.125"
      ]
     },
     "execution_count": 11,
     "metadata": {},
     "output_type": "execute_result"
    }
   ],
   "source": [
    "fitables['atom_site_fract_a']['value']"
   ]
  },
  {
   "cell_type": "code",
   "execution_count": 12,
   "metadata": {},
   "outputs": [
    {
     "data": {
      "text/plain": [
       "3"
      ]
     },
     "execution_count": 12,
     "metadata": {},
     "output_type": "execute_result"
    }
   ],
   "source": [
    "len(fitables)"
   ]
  },
  {
   "cell_type": "code",
   "execution_count": 14,
   "metadata": {},
   "outputs": [
    {
     "name": "stdout",
     "output_type": "stream",
     "text": [
      "atom_site_fract_a -> {'label': 'a', 'value': 5.125, 'error': 0.274, 'refine': True}\n",
      "atom_site_fract_b -> {'label': 'b', 'value': 7.125, 'error': 0.521, 'refine': False}\n",
      "atom_site_fract_c -> {'label': 'c', 'value': 4.925, 'error': 0.301, 'refine': False}\n"
     ]
    }
   ],
   "source": [
    "for key, value in fitables.items():\n",
    "    print(key, '->', value)"
   ]
  },
  {
   "cell_type": "code",
   "execution_count": null,
   "metadata": {},
   "outputs": [],
   "source": [
    "for key, value in fitables.items():\n",
    "    print(key, '->', value)"
   ]
  },
  {
   "cell_type": "code",
   "execution_count": 16,
   "metadata": {},
   "outputs": [],
   "source": [
    "data = {\n",
    "    'data_Fe3O4': {\n",
    "        'cell_angle_alpha': {'value': 90.0, 'error': 0.000, 'refine': False},\n",
    "        'cell_length_a': {'value': 8.7, 'error': 0.000, 'refine': False},\n",
    "        'space_group_name_H-M_alt': 'Fd-3m',\n",
    "        'atom_site': [\n",
    "            {\n",
    "                'label': 'Fe3A',\n",
    "                'fract_x': {'value': 0.125, 'error': 0.000, 'refine': False},\n",
    "                'fract_y': {'value': 0.125, 'error': 0.000, 'refine': False},\n",
    "                'fract_z': {'value': 0.125, 'error': 0.000, 'refine': False},\n",
    "                'occupancy': {'value': 0.000, 'error': 0.000, 'refine': False},\n",
    "            },\n",
    "            {\n",
    "                'label': 'Fe3B',\n",
    "                'fract_x': {'value': 0.500, 'error': 0.000, 'refine': False},\n",
    "                'fract_y': {'value': 0.500, 'error': 0.000, 'refine': False},\n",
    "                'fract_z': {'value': 0.500, 'error': 0.000, 'refine': False},\n",
    "                'occupancy': {'value': 0.000, 'error': 0.000, 'refine': False},\n",
    "            },\n",
    "            {\n",
    "                'label': 'O1',\n",
    "                'fract_x': {'value': 0.255, 'error': 0.000, 'refine': False},\n",
    "                'fract_y': {'value': 0.255, 'error': 0.000, 'refine': False},\n",
    "                'fract_z': {'value': 0.255, 'error': 0.000, 'refine': False},\n",
    "                'occupancy': {'value': 0.000, 'error': 0.000, 'refine': False},\n",
    "            },\n",
    "        ]\n",
    "    },\n",
    "    'data_pnd': {\n",
    "        'pd_resolution_u': 16.9776,\n",
    "        'pd_resolution_v': -2.83,\n",
    "    }\n",
    "}"
   ]
  },
  {
   "cell_type": "code",
   "execution_count": 47,
   "metadata": {},
   "outputs": [
    {
     "name": "stdout",
     "output_type": "stream",
     "text": [
      "cell_angle_alpha -> 90.0 False\n",
      "cell_length_a -> 8.7 False\n",
      "atom_site Fe3A fract_x -> 0.125 False\n",
      "atom_site Fe3A fract_y -> 0.125 False\n",
      "atom_site Fe3A fract_z -> 0.125 False\n",
      "atom_site Fe3A occupancy -> 0.0 False\n",
      "atom_site Fe3B fract_x -> 0.5 False\n",
      "atom_site Fe3B fract_y -> 0.5 False\n",
      "atom_site Fe3B fract_z -> 0.5 False\n",
      "atom_site Fe3B occupancy -> 0.0 False\n",
      "atom_site O1 fract_x -> 0.255 False\n",
      "atom_site O1 fract_y -> 0.255 False\n",
      "atom_site O1 fract_z -> 0.255 False\n",
      "atom_site O1 occupancy -> 0.0 False\n"
     ]
    }
   ],
   "source": [
    "for key, value in data.items():\n",
    "    for subkey, subvalue in value.items():\n",
    "        if isinstance(subvalue, dict) and 'value' in subvalue:\n",
    "            pass\n",
    "            print(subkey, '->', subvalue['value'], subvalue['refine'])\n",
    "        if isinstance(subvalue, list):\n",
    "            for item in subvalue:\n",
    "                for subsubkey, subsubvalue in item.items():\n",
    "                    try:\n",
    "                        print(subkey, item['label'], subsubkey, '->', subsubvalue['value'], subsubvalue['refine'])\n",
    "                    except:\n",
    "                        pass\n",
    "                    #try:\n",
    "                        #print(subkey, subsubvalue['label'], subsubkey, '->', subsubvalue['value'], subsubvalue['refine'])\n",
    "\n",
    "                    #print(subsubkey, isinstance(subsubkey, dict))\n",
    "                    #if isinstance(subsubvalue, dict):# and 'value' in subsubvalue:\n",
    "                        #pass\n",
    "                        #print(subkey, subsubvalue['label'], subsubkey, '->', subsubvalue['value'], subsubvalue['refine'])\n"
   ]
  },
  {
   "cell_type": "code",
   "execution_count": 49,
   "metadata": {},
   "outputs": [
    {
     "name": "stdout",
     "output_type": "stream",
     "text": [
      "data_Fe3O4 cell_angle_alpha -> 90.0 False\n",
      "data_Fe3O4 cell_length_a -> 8.7 False\n",
      "data_Fe3O4 atom_site Fe3A fract_x -> 0.125 False\n",
      "data_Fe3O4 atom_site Fe3A fract_y -> 0.125 False\n",
      "data_Fe3O4 atom_site Fe3A fract_z -> 0.125 False\n",
      "data_Fe3O4 atom_site Fe3A occupancy -> 0.0 False\n",
      "data_Fe3O4 atom_site Fe3B fract_x -> 0.5 False\n",
      "data_Fe3O4 atom_site Fe3B fract_y -> 0.5 False\n",
      "data_Fe3O4 atom_site Fe3B fract_z -> 0.5 False\n",
      "data_Fe3O4 atom_site Fe3B occupancy -> 0.0 False\n",
      "data_Fe3O4 atom_site O1 fract_x -> 0.255 False\n",
      "data_Fe3O4 atom_site O1 fract_y -> 0.255 False\n",
      "data_Fe3O4 atom_site O1 fract_z -> 0.255 False\n",
      "data_Fe3O4 atom_site O1 occupancy -> 0.0 False\n"
     ]
    }
   ],
   "source": [
    "for key, value in data.items():\n",
    "    for subkey, subvalue in value.items():\n",
    "        if isinstance(subvalue, dict):\n",
    "            try:\n",
    "                print(key, subkey, '->', subvalue['value'], subvalue['refine'])\n",
    "            except:\n",
    "                pass\n",
    "        if isinstance(subvalue, list):\n",
    "            for item in subvalue:\n",
    "                for subsubkey, subsubvalue in item.items():\n",
    "                    try:\n",
    "                        print(key, subkey, item['label'], subsubkey, '->', subsubvalue['value'], subsubvalue['refine'])\n",
    "                    except:\n",
    "                        pass\n"
   ]
  },
  {
   "cell_type": "code",
   "execution_count": 63,
   "metadata": {},
   "outputs": [],
   "source": [
    "data = {\n",
    "    'data_Fe3O4': {\n",
    "        'cell_angle_alpha': {'value': 90.0, 'error': 0.000, 'refine': False},\n",
    "        'cell_length_a': {'value': 8.7, 'error': 0.000, 'refine': False},\n",
    "        'space_group_name_H-M_alt': 'Fd-3m',\n",
    "        'atom_site': {\n",
    "            'label_Fe3A': {\n",
    "                'fract_x': {'value': 0.125, 'error': 0.000, 'refine': False},\n",
    "                'fract_y': {'value': 0.125, 'error': 0.000, 'refine': False},\n",
    "                'fract_z': {'value': 0.125, 'error': 0.000, 'refine': False},\n",
    "                'occupancy': {'value': 0.000, 'error': 0.000, 'refine': False},\n",
    "            },\n",
    "            'label_Fe3B': {\n",
    "                'fract_x': {'value': 0.500, 'error': 0.000, 'refine': False},\n",
    "                'fract_y': {'value': 0.500, 'error': 0.000, 'refine': False},\n",
    "                'fract_z': {'value': 0.500, 'error': 0.000, 'refine': False},\n",
    "                'occupancy': {'value': 0.000, 'error': 0.000, 'refine': False},\n",
    "            },\n",
    "            'label_O1': {\n",
    "                'fract_x': {'value': 0.255, 'error': 0.000, 'refine': False},\n",
    "                'fract_y': {'value': 0.255, 'error': 0.000, 'refine': False},\n",
    "                'fract_z': {'value': 0.255, 'error': 0.000, 'refine': False},\n",
    "                'occupancy': {'value': 0.000, 'error': 0.000, 'refine': False},\n",
    "            },\n",
    "        }\n",
    "    },\n",
    "    'data_pnd': {\n",
    "        'pd_resolution_u': {'value': 16.9776, 'error': 0.000, 'refine': False},\n",
    "        'pd_resolution_v': {'value': -2.83, 'error': 0.000, 'refine': False},\n",
    "    }\n",
    "}"
   ]
  },
  {
   "cell_type": "code",
   "execution_count": 64,
   "metadata": {},
   "outputs": [
    {
     "name": "stdout",
     "output_type": "stream",
     "text": [
      "data_Fe3O4 cell_angle_alpha -> 90.0 False\n",
      "data_Fe3O4 cell_length_a -> 8.7 False\n",
      "data_Fe3O4 atom_site label_Fe3A fract_x >> 0.125 False\n",
      "data_Fe3O4 atom_site label_Fe3A fract_y >> 0.125 False\n",
      "data_Fe3O4 atom_site label_Fe3A fract_z >> 0.125 False\n",
      "data_Fe3O4 atom_site label_Fe3A occupancy >> 0.0 False\n",
      "data_Fe3O4 atom_site label_Fe3B fract_x >> 0.5 False\n",
      "data_Fe3O4 atom_site label_Fe3B fract_y >> 0.5 False\n",
      "data_Fe3O4 atom_site label_Fe3B fract_z >> 0.5 False\n",
      "data_Fe3O4 atom_site label_Fe3B occupancy >> 0.0 False\n",
      "data_Fe3O4 atom_site label_O1 fract_x >> 0.255 False\n",
      "data_Fe3O4 atom_site label_O1 fract_y >> 0.255 False\n",
      "data_Fe3O4 atom_site label_O1 fract_z >> 0.255 False\n",
      "data_Fe3O4 atom_site label_O1 occupancy >> 0.0 False\n",
      "data_pnd pd_resolution_u -> 16.9776 False\n",
      "data_pnd pd_resolution_v -> -2.83 False\n"
     ]
    }
   ],
   "source": [
    "for key, value in data.items():\n",
    "    for subkey, subvalue in value.items():\n",
    "        try:\n",
    "            print(key, subkey, '->', subvalue['value'], subvalue['refine'])\n",
    "        except:\n",
    "            pass\n",
    "        try:\n",
    "            for subsubkey, subsubvalue in subvalue.items():\n",
    "                for subsubsubkey, subsubsubvalue in subsubvalue.items():\n",
    "                    print(key, subkey, subsubkey, subsubsubkey, '>>', subsubsubvalue['value'], subsubsubvalue['refine'])\n",
    "        except:\n",
    "            pass\n"
   ]
  },
  {
   "cell_type": "code",
   "execution_count": 73,
   "metadata": {},
   "outputs": [
    {
     "name": "stdout",
     "output_type": "stream",
     "text": [
      "data_Fe3O4\n",
      "{'datablock': 'data_Fe3O4', 'label': 'label_Fe3A', 'fract_x': {'value': 0.125, 'error': 0.0, 'refine': False}, 'fract_y': {'value': 0.125, 'error': 0.0, 'refine': False}, 'fract_z': {'value': 0.125, 'error': 0.0, 'refine': False}, 'occupancy': {'value': 0.0, 'error': 0.0, 'refine': False}}\n",
      "{'datablock': 'data_Fe3O4', 'label': 'label_Fe3B', 'fract_x': {'value': 0.5, 'error': 0.0, 'refine': False}, 'fract_y': {'value': 0.5, 'error': 0.0, 'refine': False}, 'fract_z': {'value': 0.5, 'error': 0.0, 'refine': False}, 'occupancy': {'value': 0.0, 'error': 0.0, 'refine': False}}\n",
      "{'datablock': 'data_Fe3O4', 'label': 'label_O1', 'fract_x': {'value': 0.255, 'error': 0.0, 'refine': False}, 'fract_y': {'value': 0.255, 'error': 0.0, 'refine': False}, 'fract_z': {'value': 0.255, 'error': 0.0, 'refine': False}, 'occupancy': {'value': 0.0, 'error': 0.0, 'refine': False}}\n",
      "data_pnd\n"
     ]
    }
   ],
   "source": [
    "_atom_site_list = []\n",
    "for key, value in data.items():\n",
    "    try:\n",
    "        for subkey, subvalue in value['atom_site'].items():\n",
    "            _atom_site_list.append({'datablock': key, 'label': subkey, **subvalue})\n",
    "    except:\n",
    "        pass\n",
    "\n",
    "\n"
   ]
  },
  {
   "cell_type": "code",
   "execution_count": null,
   "metadata": {},
   "outputs": [],
   "source": [
    "_cell_list = []\n",
    "for key, value in self._data.items():\n",
    "    try:\n",
    "                for subkey, subvalue in value['atom_site'].items():\n",
    "                   self. _atom_site_list.append({'datablock': key, 'label': subkey, **subvalue})\n",
    "            except:\n",
    "                pass"
   ]
  },
  {
   "cell_type": "code",
   "execution_count": 74,
   "metadata": {},
   "outputs": [],
   "source": [
    "t = {}\n",
    "t['a'] = 11"
   ]
  },
  {
   "cell_type": "code",
   "execution_count": 75,
   "metadata": {},
   "outputs": [
    {
     "data": {
      "text/plain": [
       "{'a': 11}"
      ]
     },
     "execution_count": 75,
     "metadata": {},
     "output_type": "execute_result"
    }
   ],
   "source": [
    "t"
   ]
  },
  {
   "cell_type": "code",
   "execution_count": 76,
   "metadata": {},
   "outputs": [
    {
     "ename": "KeyError",
     "evalue": "'b'",
     "output_type": "error",
     "traceback": [
      "\u001b[0;31m---------------------------------------------------------------------------\u001b[0m",
      "\u001b[0;31mKeyError\u001b[0m                                  Traceback (most recent call last)",
      "\u001b[0;32m<ipython-input-76-d5d362c37414>\u001b[0m in \u001b[0;36m<module>\u001b[0;34m\u001b[0m\n\u001b[0;32m----> 1\u001b[0;31m \u001b[0mt\u001b[0m\u001b[0;34m[\u001b[0m\u001b[0;34m'b'\u001b[0m\u001b[0;34m]\u001b[0m\u001b[0;34m[\u001b[0m\u001b[0;34m'c'\u001b[0m\u001b[0;34m]\u001b[0m \u001b[0;34m=\u001b[0m \u001b[0;36m23\u001b[0m\u001b[0;34m\u001b[0m\u001b[0;34m\u001b[0m\u001b[0m\n\u001b[0m",
      "\u001b[0;31mKeyError\u001b[0m: 'b'"
     ]
    }
   ],
   "source": [
    "t['b']['c'] = 23"
   ]
  },
  {
   "cell_type": "code",
   "execution_count": null,
   "metadata": {},
   "outputs": [],
   "source": []
  }
 ],
 "metadata": {
  "kernelspec": {
   "display_name": "Python 3",
   "language": "python",
   "name": "python3"
  },
  "language_info": {
   "codemirror_mode": {
    "name": "ipython",
    "version": 3
   },
   "file_extension": ".py",
   "mimetype": "text/x-python",
   "name": "python",
   "nbconvert_exporter": "python",
   "pygments_lexer": "ipython3",
   "version": "3.7.3"
  },
  "toc": {
   "base_numbering": 1,
   "nav_menu": {},
   "number_sections": true,
   "sideBar": true,
   "skip_h1_title": false,
   "title_cell": "Table of Contents",
   "title_sidebar": "Contents",
   "toc_cell": false,
   "toc_position": {},
   "toc_section_display": true,
   "toc_window_display": true
  }
 },
 "nbformat": 4,
 "nbformat_minor": 2
}
