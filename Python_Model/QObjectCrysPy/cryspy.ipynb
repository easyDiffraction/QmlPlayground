{
 "cells": [
  {
   "cell_type": "code",
   "execution_count": 2,
   "metadata": {},
   "outputs": [],
   "source": [
    "import os, sys\n",
    "import random\n",
    "import numpy as np"
   ]
  },
  {
   "cell_type": "code",
   "execution_count": 3,
   "metadata": {},
   "outputs": [],
   "source": [
    "from PySide2.QtCore import QUrl, Qt, QCoreApplication\n",
    "from PySide2.QtWidgets import QApplication\n",
    "from PySide2.QtQml import QQmlApplicationEngine\n",
    "\n",
    "from PySide2.QtCore import QObject, Signal, Slot, Property\n",
    "from PySide2.QtCore import QAbstractListModel, QAbstractTableModel, QModelIndex, QByteArray"
   ]
  },
  {
   "cell_type": "code",
   "execution_count": 4,
   "metadata": {},
   "outputs": [],
   "source": [
    "import cryspy"
   ]
  },
  {
   "cell_type": "markdown",
   "metadata": {},
   "source": [
    "# Python Proxy Model"
   ]
  },
  {
   "cell_type": "code",
   "execution_count": 33,
   "metadata": {},
   "outputs": [],
   "source": [
    "class PythonModel(QObject):\n",
    "\n",
    "    def __init__(self, parent=None):\n",
    "        super().__init__(parent)\n",
    "        self._data_dict = {}\n",
    "        self._fitables_list = []\n",
    "        self._atom_site_list = []\n",
    "        self._cell_dict = {}\n",
    "\n",
    "    # ##############################################\n",
    "    # Private methods\n",
    "    # ##############################################\n",
    "\n",
    "    def _get_data_dict(self):\n",
    "        return self._data_dict\n",
    "\n",
    "    def _set_data_dict(self, data):\n",
    "        #self._data_dict = data.toVariant() # don't preserve order\n",
    "        for key, value in data.toVariant().items():\n",
    "            for subkey, subvalue in value.items():\n",
    "                self._data_dict[key][subkey] = subvalue\n",
    "        self.dataChanged.emit()\n",
    "\n",
    "    def _get_fitables_list(self):\n",
    "        self._fitables_list.clear()\n",
    "        # ADD header now\n",
    "        for key, value in self._data_dict.items():\n",
    "            for subkey, subvalue in value.items():\n",
    "                try:\n",
    "                    self._fitables_list.append({\n",
    "                        'datablock': key,\n",
    "                        'group': '',\n",
    "                        'subgroup': '',\n",
    "                        'name': subkey,\n",
    "                        'value': subvalue['value'],\n",
    "                        'error': subvalue['error'],\n",
    "                        'refine': subvalue['refine']\n",
    "                        })\n",
    "                except:\n",
    "                    pass\n",
    "                try:\n",
    "                    for subsubkey, subsubvalue in subvalue.items():\n",
    "                        for subsubsubkey, subsubsubvalue in subsubvalue.items():\n",
    "                            self._fitables_list.append({\n",
    "                                'datablock': key,\n",
    "                                'group': subkey,\n",
    "                                'subgroup': subsubkey,\n",
    "                                'name': subsubsubkey,\n",
    "                                'value': subsubsubvalue['value'],\n",
    "                                'error': subsubsubvalue['error'],\n",
    "                                'refine': subsubsubvalue['refine']\n",
    "                                })\n",
    "                except:\n",
    "                    pass\n",
    "        return self._fitables_list\n",
    "\n",
    "    def _get_atom_site_list(self):\n",
    "        self._atom_site_list.clear()\n",
    "        for key, value in self._data_dict.items():\n",
    "            try:\n",
    "                for subkey, subvalue in value['atom_site'].items():\n",
    "                   self._atom_site_list.append({'datablock': key, 'label': subkey, **subvalue})\n",
    "            except:\n",
    "                pass\n",
    "        return self._atom_site_list\n",
    "\n",
    "    def _get_cell_dict(self):\n",
    "        for key, value in self._data_dict.items():\n",
    "            try:\n",
    "                self._cell_dict['cell_length_a'] = value['cell_length_a']\n",
    "                self._cell_dict['cell_length_b'] = value['cell_length_b']\n",
    "                self._cell_dict['cell_length_c'] = value['cell_length_c']\n",
    "                self._cell_dict['cell_angle_alpha'] = value['cell_angle_alpha']\n",
    "                self._cell_dict['cell_angle_beta'] = value['cell_angle_beta']\n",
    "                self._cell_dict['cell_angle_gamma'] = value['cell_angle_gamma']\n",
    "                self._cell_dict['datablock'] = key\n",
    "            except:\n",
    "                pass\n",
    "        return self._cell_dict\n",
    "\n",
    "    def _set_fitable_from_rhochi_model(self, obj, name, title, datablock, group=\"\", subgroup=\"\"):\n",
    "        if datablock not in self._data_dict.keys():\n",
    "            self._data_dict[datablock] = {}\n",
    "        if group and subgroup:\n",
    "            pass\n",
    "        else:\n",
    "            if name not in self._data_dict[datablock].keys():\n",
    "                self._data_dict[datablock][name] = {}\n",
    "            if isinstance(obj, float) or isinstance(obj, int):\n",
    "                self._data_dict[datablock][name]['value'] = '{:.4f}'.format(obj)\n",
    "                self._data_dict[datablock][name]['error'] = ''\n",
    "                self._data_dict[datablock][name]['refine'] = False\n",
    "                self._data_dict[datablock][name]['title'] = title\n",
    "            elif isinstance(obj, neupy.f_common.cl_variable.Variable):\n",
    "                self._data_dict[datablock][name]['value'] = '{:.4f}'.format(obj.__getitem__(0))\n",
    "                self._data_dict[datablock][name]['error'] = '{:.4f}'.format(obj.__getitem__(4))\n",
    "                self._data_dict[datablock][name]['refine'] = obj.__getitem__(1)\n",
    "                self._data_dict[datablock][name]['title'] = title\n",
    "            else:\n",
    "                print(\"Unknown object type\", type(obj))\n",
    "\n",
    "    def _set_data_dict_from_rhochi_model(self):\n",
    "        #print(\"_set_data_dict_from_rhochi_model\")\n",
    "        self._data_dict.clear()\n",
    "        for phase in self._model._list_crystal:\n",
    "            self._set_fitable_from_rhochi_model(phase.get_val('cell').get_val('a'), 'cell_length_a', 'a (\\u212B)', phase.get_val('name'))\n",
    "            self._set_fitable_from_rhochi_model(phase.get_val('cell').get_val('b'), 'cell_length_b', 'b (\\u212B)', phase.get_val('name'))\n",
    "            self._set_fitable_from_rhochi_model(phase.get_val('cell').get_val('c'), 'cell_length_c', 'c (\\u212B)', phase.get_val('name'))\n",
    "            self._set_fitable_from_rhochi_model(phase.get_val('cell').get_val('alpha'), 'cell_angle_alpha', 'alpha (\\u212B)', phase.get_val('name'))\n",
    "            self._set_fitable_from_rhochi_model(phase.get_val('cell').get_val('beta'), 'cell_angle_beta', 'beta (\\u212B)', phase.get_val('name'))\n",
    "            self._set_fitable_from_rhochi_model(phase.get_val('cell').get_val('gamma'), 'cell_angle_gamma', 'gamma (\\u212B)', phase.get_val('name'))\n",
    "\n",
    "    def _update_rhochi_cell_model(self):\n",
    "        #print(\"_update_rhochi_cell_model\")\n",
    "        for phase in self._model._list_crystal:\n",
    "            a = float(self._data_dict[phase.get_val('name')]['cell_length_a']['value'])\n",
    "            b = float(self._data_dict[phase.get_val('name')]['cell_length_b']['value'])\n",
    "            c = float(self._data_dict[phase.get_val('name')]['cell_length_c']['value'])\n",
    "            alpha = float(self._data_dict[phase.get_val('name')]['cell_angle_alpha']['value'])\n",
    "            beta = float(self._data_dict[phase.get_val('name')]['cell_angle_beta']['value'])\n",
    "            gamma = float(self._data_dict[phase.get_val('name')]['cell_angle_gamma']['value'])\n",
    "            #\n",
    "            if self._data_dict[phase.get_val('name')]['cell_length_a']['refine']:\n",
    "                a = neupy.f_common.cl_variable.Variable(val = a, ref=True)\n",
    "            if self._data_dict[phase.get_val('name')]['cell_length_b']['refine']:\n",
    "                b = neupy.f_common.cl_variable.Variable(val = b, ref=True)\n",
    "            if self._data_dict[phase.get_val('name')]['cell_length_c']['refine']:\n",
    "                c = neupy.f_common.cl_variable.Variable(val = c, ref=True)\n",
    "            if self._data_dict[phase.get_val('name')]['cell_angle_alpha']['refine']:\n",
    "                alpha = neupy.f_common.cl_variable.Variable(val = alpha, ref=True)\n",
    "            if self._data_dict[phase.get_val('name')]['cell_angle_beta']['refine']:\n",
    "                beta = neupy.f_common.cl_variable.Variable(val = beta, ref=True)\n",
    "            if self._data_dict[phase.get_val('name')]['cell_angle_gamma']['refine']:\n",
    "                gamma = neupy.f_common.cl_variable.Variable(val = gamma, ref=True)\n",
    "            #\n",
    "            cell = phase.get_val('cell')\n",
    "            cell.set_val(a = a, b = b, c = c, alpha = alpha, beta = beta, gamma = gamma)\n",
    "            #\n",
    "            phase.set_val(cell = cell)\n",
    "\n",
    "    # ##############################################\n",
    "    # Signals\n",
    "    # ##############################################\n",
    "\n",
    "    #@Signal\n",
    "    #def dataChanged(self):\n",
    "    #    pass\n",
    "\n",
    "    dataChanged = Signal()\n",
    "\n",
    "    # ##############################################\n",
    "    # QML accessible public slots\n",
    "    # ##############################################\n",
    "\n",
    "    #@Slot('QJSValue')\n",
    "    #def set_data(self, data):\n",
    "    #    self._data = data.toVariant()\n",
    "    #    self.dataChanged.emit()\n",
    "\n",
    "    @Slot()\n",
    "    def random_change_cell_length_a(self):\n",
    "        phase = self._model._list_crystal[0]\n",
    "        self._data_dict[phase.get_val('name')]['cell_length_a']['value'] = '{:.4f}'.format(random.random())\n",
    "        self.dataChanged.emit()\n",
    "\n",
    "    @Slot(str)\n",
    "    def load_rhochi_model_and_update_proxy(self, path):\n",
    "        #print(\"load_rhochi_model_and_update_proxy: \", path)\n",
    "        self._rcif_file_absolute_path = path\n",
    "        self._rcif = neupy.f_rcif.RCif()\n",
    "        self._rcif.load_from_file(self._rcif_file_absolute_path)\n",
    "        self._model = neupy.f_api_rcif.api_rcif_model.conv_rcif_to_model(self._rcif)\n",
    "        self._set_data_dict_from_rhochi_model()\n",
    "        self._project_opened = True\n",
    "        self.dataChanged.emit()\n",
    "\n",
    "    @Slot(result='QVariant')\n",
    "    def refine_model(self):\n",
    "        #print(\"refine_model\")\n",
    "        self.update_rhochi_model()\n",
    "        try:\n",
    "            res = self._model.refine_model()\n",
    "            if res is None:\n",
    "                return \"No refinable parameters found\"\n",
    "        except np.linalg.LinAlgError as err:\n",
    "            return str(err)\n",
    "        except:\n",
    "            return \"Unknow error during refinement\"\n",
    "        self._set_data_dict_from_rhochi_model()\n",
    "        self.dataChanged.emit()\n",
    "        return dict(res)\n",
    "\n",
    "    @Slot()\n",
    "    def update_rhochi_model(self):\n",
    "        #print(\"update_rhochi_model\")\n",
    "        self._update_rhochi_cell_model()\n",
    "\n",
    "    # ##############################################\n",
    "    # QML accessible properties\n",
    "    # ##############################################\n",
    "\n",
    "    data = Property('QVariant', _get_data_dict, _set_data_dict, notify=dataChanged)\n",
    "    fitables_list = Property('QVariant', _get_fitables_list, notify=dataChanged)\n",
    "    atom_site_list = Property('QVariant', _get_atom_site_list, notify=dataChanged)\n",
    "    cell_dict = Property('QVariant', _get_cell_dict, notify=dataChanged)"
   ]
  },
  {
   "cell_type": "markdown",
   "metadata": {},
   "source": [
    "# Path to RCif"
   ]
  },
  {
   "cell_type": "code",
   "execution_count": 5,
   "metadata": {},
   "outputs": [],
   "source": [
    "cryspy_ipynb_path = %pwd\n",
    "main_rcif_path = os.path.join(cryspy_ipynb_path, \"cryspy-master\", \"examples\", \"Fe3O4_0T_powder_1d\", \"main.rcif\")"
   ]
  },
  {
   "cell_type": "code",
   "execution_count": 6,
   "metadata": {},
   "outputs": [],
   "source": [
    "rhochi = cryspy.rhochi_read_file(main_rcif_path)"
   ]
  },
  {
   "cell_type": "code",
   "execution_count": 7,
   "metadata": {},
   "outputs": [
    {
     "name": "stdout",
     "output_type": "stream",
     "text": [
      "Fe3O4\n",
      "8.56212 (name: _cell_length_a)\n",
      "_cell_length_a 8.56212 0.0 False\n",
      "90.0 (name: _cell_angle_alpha)\n"
     ]
    }
   ],
   "source": [
    "for datablock in rhochi.crystals:\n",
    "    print(datablock.label)\n",
    "    print(datablock.cell.a)\n",
    "    print(datablock.cell.a.name, datablock.cell.a.value, datablock.cell.a.sigma, datablock.cell.a.refinement)\n",
    "    print(datablock.cell.alpha)"
   ]
  },
  {
   "cell_type": "code",
   "execution_count": 8,
   "metadata": {},
   "outputs": [
    {
     "data": {
      "text/plain": [
       "Crystal:\n",
       "label: Fe3O4\n",
       "\n",
       "Cell: \n",
       " a: 8.56212 (name: _cell_length_a)\n",
       " b: 8.56212 (name: _cell_length_b)\n",
       " c: 8.56212 (name: _cell_length_c)\n",
       " alpha: 90.0 (name: _cell_angle_alpha)\n",
       " beta: 90.0 (name: _cell_angle_beta)\n",
       " gamma: 90.0 (name: _cell_angle_gamma)\n",
       " bravais_lattice: cubic\n",
       " volume: 627.688\n",
       " B matrix is:\n",
       "   0.11679   0.00000   0.00000\n",
       "   0.00000   0.11679  -0.00000\n",
       "   0.00000   0.00000   0.11679\n",
       " inversed B matrix is:\n",
       "   8.56212  -0.00000  -0.00000\n",
       "   0.00000   8.56212   0.00000\n",
       "   0.00000   0.00000   8.56212\n",
       "\n",
       "SpaceGroup:\n",
       " given name: Fd-3m\n",
       " choice: 2\n",
       " name: Fd-3m\n",
       " number: 227\n",
       "\n",
       "AtomSite:\n",
       " label type_symbol x        y        z        adp_type b_iso    occupancy\n",
       " Fe3A     Fe3+     0.125    0.125    0.125    uani     0.0      1.0     \n",
       " Fe3B     Fe3+     0.5      0.5      0.5      uani     0.0      1.0     \n",
       " O1       O2-      0.25521  0.25521  0.25521  uiso     0.0      1.0     \n",
       "\n",
       " for type_symbol 'O2-'\n",
       " scat_length_neutron: 0.5803 cm**-12\n",
       " j0_A:  0.9990,  j0_a: 12.0965,  j0_B:  0.2885,  j0_b:  0.1291\n",
       " j0_C:  0.1143,  j0_c: -0.2297,  j0_D: -0.4068\n",
       " j2_A:  0.0000,  j2_a:  0.0000,  j2_B:  0.0000,  j2_b:  0.0000\n",
       " j2_C:  0.0000,  j2_c:  0.0000,  j2_D:  0.0000\n",
       "\n",
       " for type_symbol 'Fe3+'\n",
       " scat_length_neutron: 0.9450 cm**-12\n",
       " j0_A:  0.3972,  j0_a: 13.2442,  j0_B:  0.6295,  j0_b:  4.9034\n",
       " j0_C: -0.0314,  j0_c:  0.3496,  j0_D:  0.0044\n",
       " j2_A:  1.3602,  j2_a: 11.9976,  j2_B:  1.5188,  j2_b:  5.0025\n",
       " j2_C:  0.4705,  j2_c:  1.9914,  j2_D:  0.0038\n",
       "\n",
       "AtomSiteAniso:\n",
       " label    u_11     u_22     u_33     u_12     u_13     u_23    \n",
       " Fe3A     0.0      0.0      0.0      0.0      0.0      0.0     \n",
       " Fe3B     0.0      0.0      0.0      0.0      0.0      0.0     \n",
       "\n",
       "AtomSiteMagnetism:\n",
       " label    kappa    lande   \n",
       " Fe3A     1.0      2.0     \n",
       " Fe3B     1.0      2.0     \n",
       "\n",
       "AtomSiteMagnetismAniso:\n",
       " label    chi_type chi_11   chi_22   chi_33   chi_12   chi_13   chi_23   \n",
       " Fe3A     cani     -3.468() -3.468216455606244 -3.468216455606244 0.0      0.0      0.0     \n",
       " Fe3B     cani     3.041    3.041    3.041    0.0      0.0      0.0     "
      ]
     },
     "execution_count": 8,
     "metadata": {},
     "output_type": "execute_result"
    }
   ],
   "source": [
    "rhochi.crystals[0]"
   ]
  },
  {
   "cell_type": "code",
   "execution_count": 13,
   "metadata": {},
   "outputs": [
    {
     "data": {
      "text/plain": [
       "AtomSite:\n",
       " label type_symbol x        y        z        adp_type b_iso    occupancy\n",
       " Fe3A     Fe3+     0.125    0.125    0.125    uani     0.0      1.0     \n",
       " Fe3B     Fe3+     0.5      0.5      0.5      uani     0.0      1.0     \n",
       " O1       O2-      0.25521  0.25521  0.25521  uiso     0.0      1.0     \n",
       "\n",
       " for type_symbol 'O2-'\n",
       " scat_length_neutron: 0.5803 cm**-12\n",
       " j0_A:  0.9990,  j0_a: 12.0965,  j0_B:  0.2885,  j0_b:  0.1291\n",
       " j0_C:  0.1143,  j0_c: -0.2297,  j0_D: -0.4068\n",
       " j2_A:  0.0000,  j2_a:  0.0000,  j2_B:  0.0000,  j2_b:  0.0000\n",
       " j2_C:  0.0000,  j2_c:  0.0000,  j2_D:  0.0000\n",
       "\n",
       " for type_symbol 'Fe3+'\n",
       " scat_length_neutron: 0.9450 cm**-12\n",
       " j0_A:  0.3972,  j0_a: 13.2442,  j0_B:  0.6295,  j0_b:  4.9034\n",
       " j0_C: -0.0314,  j0_c:  0.3496,  j0_D:  0.0044\n",
       " j2_A:  1.3602,  j2_a: 11.9976,  j2_B:  1.5188,  j2_b:  5.0025\n",
       " j2_C:  0.4705,  j2_c:  1.9914,  j2_D:  0.0038"
      ]
     },
     "execution_count": 13,
     "metadata": {},
     "output_type": "execute_result"
    }
   ],
   "source": [
    "rhochi.crystals[0].atom_site"
   ]
  },
  {
   "cell_type": "code",
   "execution_count": 18,
   "metadata": {},
   "outputs": [
    {
     "data": {
      "text/plain": [
       "('Fe3A', 'Fe3B', 'O1')"
      ]
     },
     "execution_count": 18,
     "metadata": {},
     "output_type": "execute_result"
    }
   ],
   "source": [
    "rhochi.crystals[0].atom_site.label"
   ]
  },
  {
   "cell_type": "code",
   "execution_count": 17,
   "metadata": {},
   "outputs": [
    {
     "data": {
      "text/plain": [
       "(0.125 (name: _atom_site_fract_x),\n",
       " 0.5 (name: _atom_site_fract_x),\n",
       " 0.25521 (name: _atom_site_fract_x))"
      ]
     },
     "execution_count": 17,
     "metadata": {},
     "output_type": "execute_result"
    }
   ],
   "source": [
    "rhochi.crystals[0].atom_site.x"
   ]
  },
  {
   "cell_type": "code",
   "execution_count": 53,
   "metadata": {},
   "outputs": [
    {
     "name": "stdout",
     "output_type": "stream",
     "text": [
      "PdMeas:\n",
      " ttheta           up     up_sigma         down   down_sigma\n",
      "   4.00    465.80000    128.97000    301.88000    129.30000\n",
      "   4.20    323.78000    118.22000    206.06000    120.00000\n",
      "   4.40    307.14000    115.90000    230.47000    116.53000\n",
      "   4.60    172.13000    115.84000    236.52000    113.74000\n",
      "   4.80    164.31000    110.75000    291.60000    110.73000\n",
      "   5.00    166.47000    106.51000    426.73000    109.08000\n",
      "   5.20    217.67000    104.66000    183.24000    107.79000\n",
      "   5.40     84.01000     99.91000    179.87000     99.98000\n",
      "   5.60    220.87000     98.72000    297.76000     99.83000\n",
      "   5.80    223.46000     98.77000    149.78000     98.18000\n",
      "   6.00    408.25000     96.89000    356.86000     96.41000\n",
      "   6.20    381.21000     94.03000    287.26000     96.94000\n",
      "   6.40    239.85000     94.06000    101.64000     95.30000\n",
      "   6.60     58.16000     90.93000    194.35000     89.90000\n",
      "   6.80    127.79000     88.33000    273.48000     89.35000\n",
      "   7.00    148.69000     87.50000    165.70000     89.52000\n",
      "   7.20     34.61000     87.11000    223.81000     88.08000\n",
      "   7.40    139.23000     85.02000    431.55000     87.94000\n",
      "   7.60    115.56000     89.95000    251.61000     87.32000\n",
      "   7.80    185.63000     85.06000    244.73000     82.12000\n",
      "   8.00    183.16000     69.52000    203.67000     67.54000\n",
      "   8.20    202.90000     68.57000    255.22000     67.34000\n",
      "   8.40    311.71000     68.34000    340.96000     67.33000\n",
      "   8.60    346.00000     66.70000    411.33000     69.25000\n",
      "   8.80    607.26000     71.38000    655.52000     70.86000\n",
      "   9.00   1423.10000     79.65000   1648.33000     79.59000\n",
      "   9.20   2637.88000     85.69000   2515.01000     84.19000\n",
      "   9.40   2593.55000     85.42000   2685.28000     86.58000\n",
      "   9.60   1639.65000     78.66000   1821.82000     79.53000\n",
      "   9.80    661.87000     67.50000    751.09000     68.83000\n",
      "  10.00    386.03000     64.21000    334.96000     65.28000\n",
      "  10.20    255.63000     63.67000    278.90000     64.60000\n",
      "  10.40    198.32000     60.80000    201.41000     62.23000\n",
      "  10.60    238.27000     61.98000    190.13000     61.43000\n",
      "  10.80    280.29000     60.60000    271.07000     59.76000\n",
      "  11.00    170.54000     60.91000    291.55000     61.86000\n",
      "  11.20    157.47000     60.69000    382.72000     61.42000\n",
      "  11.40    265.74000     61.48000    314.71000     61.16000\n",
      "  11.60    235.43000     58.37000    232.22000     59.98000\n",
      "  11.80    254.36000     54.12000    151.82000     54.65000\n",
      "  12.00    229.41000     44.41000    197.71000     45.89000\n",
      "  12.20    179.41000     45.96000    221.01000     45.19000\n",
      "  12.40    223.14000     45.03000    220.61000     45.51000\n",
      "  12.60    146.09000     44.35000    249.94000     44.90000\n",
      "  12.80    185.32000     45.77000    142.71000     44.73000\n",
      "  13.00    121.45000     44.20000    112.50000     43.76000\n",
      "  13.20    227.91000     44.04000    211.71000     43.87000\n",
      "  13.40    189.59000     44.13000    167.53000     43.41000\n",
      "  13.60    205.87000     44.26000    220.05000     44.31000\n",
      "  13.80    132.79000     44.57000    197.19000     43.82000\n",
      "  14.00    239.49000     43.94000     95.79000     43.46000\n",
      "  14.20     86.81000     43.48000    172.28000     43.30000\n",
      "  14.40    248.30000     42.95000    164.91000     43.30000\n",
      "  14.60    207.32000     42.97000    174.02000     42.90000\n",
      "  14.80    258.53000     43.22000    291.92000     43.70000\n",
      "  15.00    329.99000     44.05000    404.54000     44.10000\n",
      "  15.20    696.47000     47.18000    679.65000     46.65000\n",
      "  15.40   1006.24000     49.93000    989.20000     50.08000\n",
      "  15.60   1107.28000     50.12000   1106.83000     49.99000\n",
      "  15.80    981.69000     48.00000    860.17000     47.13000\n",
      "  16.00    498.98000     41.50000    532.91000     41.57000\n",
      "  16.20    349.14000     39.47000    280.99000     39.63000\n",
      "  16.40    245.09000     38.62000    300.46000     38.59000\n",
      "  16.60    303.71000     38.25000    281.64000     38.48000\n",
      "  16.80    293.71000     37.70000    182.19000     37.70000\n",
      "  17.00    208.45000     36.93000    271.36000     36.81000\n",
      "  17.20    236.32000     37.37000    237.09000     37.21000\n",
      "  17.40    273.02000     37.67000    288.95000     37.44000\n",
      "  17.60    391.29000     38.37000    468.62000     38.24000\n",
      "  17.80    737.89000     40.60000    797.09000     40.69000\n",
      "  18.00   1476.09000     45.20000   1535.38000     44.65000\n",
      "  18.20   2263.80000     48.37000   2294.09000     48.15000\n",
      "  18.40   2466.51000     49.22000   2524.38000     49.18000\n",
      "  18.60   1930.22000     46.21000   1936.65000     46.20000\n",
      "  18.80   1315.88000     43.03000   1319.55000     43.10000\n",
      "  19.00    829.22000     41.17000    948.38000     40.83000\n",
      "  19.20    712.87000     40.82000    641.87000     41.31000\n",
      "  19.40    544.69000     40.90000    460.21000     41.16000\n",
      "  19.60    193.70000     41.43000    251.98000     41.05000\n",
      "  19.80    100.31000     42.36000     61.19000     41.74000\n",
      "  20.00    114.94000     41.20000     76.74000     40.93000\n",
      "  20.20    165.08000     38.07000    160.89000     37.86000\n",
      "  20.40    163.82000     36.66000    231.86000     36.71000\n",
      "  20.60    248.01000     35.37000    256.14000     35.19000\n",
      "  20.80    298.18000     34.22000    240.52000     33.51000\n",
      "  21.00    249.15000     33.48000    237.69000     33.59000\n",
      "  21.20    305.65000     33.38000    242.82000     33.22000\n",
      "  21.40    376.90000     33.23000    322.50000     33.44000\n",
      "  21.60    554.29000     34.89000    507.36000     34.49000\n",
      "  21.80    939.46000     37.40000   1031.08000     37.62000\n",
      "  22.00   1557.48000     41.61000   1602.08000     41.98000\n",
      "  22.20   1822.72000     46.81000   2027.99000     47.44000\n",
      "  22.40   1705.98000     50.45000   1698.20000     50.66000\n",
      "  22.60   1189.44000     50.89000   1118.02000     51.13000\n",
      "  22.80    633.69000     48.85000    704.47000     48.80000\n",
      "  23.00    324.74000     45.89000    450.15000     46.09000\n",
      "  23.20    183.73000     44.30000    340.75000     43.92000\n",
      "  23.40    247.37000     43.16000    257.73000     43.32000\n",
      "  23.60    218.40000     42.87000    259.17000     42.54000\n",
      "  23.80    298.85000     40.21000    250.36000     40.04000\n",
      "  24.00    425.06000     37.77000    517.72000     37.80000\n",
      "  24.20    533.65000     35.20000    548.97000     35.08000\n",
      "  24.40    513.14000     30.40000    575.11000     30.54000\n",
      "  24.60    455.12000     29.12000    456.17000     29.09000\n",
      "  24.80    398.09000     28.64000    340.46000     28.84000\n",
      "  25.00    287.95000     28.53000    294.64000     28.75000\n",
      "  25.20    218.55000     28.28000    252.34000     28.32000\n",
      "  25.40    219.11000     28.60000    213.36000     28.54000\n",
      "  25.60    196.34000     28.94000    194.78000     28.61000\n",
      "  25.80    182.35000     28.71000    121.43000     28.65000\n",
      "  26.00    189.43000     28.33000    237.15000     28.56000\n",
      "  26.20    167.40000     28.56000    169.83000     28.51000\n",
      "  26.40    206.02000     28.31000    212.26000     28.10000\n",
      "  26.60    169.54000     27.80000    198.04000     27.61000\n",
      "  26.80    279.61000     27.78000    313.06000     27.78000\n",
      "  27.00    390.35000     28.23000    477.90000     27.96000\n",
      "  27.20    539.74000     28.00000    540.68000     28.35000\n",
      "  27.40    586.20000     28.86000    627.80000     28.81000\n",
      "  27.60    532.06000     28.93000    551.12000     28.64000\n",
      "  27.80    450.78000     28.47000    438.94000     28.26000\n",
      "  28.00    399.47000     27.64000    332.27000     27.89000\n",
      "  28.20    356.23000     27.95000    340.46000     27.91000\n",
      "  28.40    427.78000     27.86000    451.34000     28.14000\n",
      "  28.60    699.51000     28.77000    676.48000     28.58000\n",
      "  28.80   1036.65000     29.67000   1116.43000     29.51000\n",
      "  29.00   1261.00000     30.53000   1326.94000     30.52000\n",
      "  29.20   1266.19000     30.70000   1278.40000     30.79000\n",
      "  29.40   1084.81000     29.88000   1143.17000     30.08000\n",
      "  29.60    873.77000     29.06000    867.65000     28.85000\n",
      "  29.80    637.90000     27.18000    607.04000     27.05000\n",
      "  30.00    409.62000     26.86000    470.03000     27.07000\n",
      "  30.20    347.81000     26.49000    335.12000     26.61000\n",
      "  30.40    285.22000     26.39000    293.92000     26.20000\n",
      "  30.60    242.01000     26.30000    328.56000     26.55000\n",
      "  30.80    456.75000     27.05000    402.12000     26.90000\n",
      "  31.00    731.44000     28.07000    728.44000     28.07000\n",
      "  31.20   1303.30000     30.50000   1302.25000     30.59000\n",
      "  31.40   2025.17000     33.94000   2072.52000     33.95000\n",
      "  31.60   2703.02000     36.41000   2722.87000     36.56000\n",
      "  31.80   3016.87000     37.62000   3064.08000     37.67000\n",
      "  32.00   2772.45000     37.36000   2845.01000     37.30000\n",
      "  32.20   2214.58000     35.50000   2232.01000     35.45000\n",
      "  32.40   1539.15000     32.40000   1498.69000     32.59000\n",
      "  32.60    956.40000     30.78000    906.67000     30.93000\n",
      "  32.80    589.27000     29.68000    601.91000     29.68000\n",
      "  33.00    454.94000     28.98000    482.57000     29.01000\n",
      "  33.20    471.79000     27.72000    440.17000     28.19000\n",
      "  33.40    427.37000     26.82000    408.16000     27.06000\n",
      "  33.60    365.64000     26.47000    353.26000     26.30000\n",
      "  33.80    319.64000     26.24000    331.26000     26.43000\n",
      "  34.00    255.38000     25.98000    320.36000     25.72000\n",
      "  34.20    222.33000     25.22000    256.53000     25.23000\n",
      "  34.40    281.30000     24.91000    193.04000     24.80000\n",
      "  34.60    209.57000     24.64000    197.30000     24.58000\n",
      "  34.80    205.75000     24.34000    253.96000     24.33000\n",
      "  35.00    213.04000     24.37000    251.08000     24.39000\n",
      "  35.20    281.56000     24.92000    254.42000     24.75000\n",
      "  35.40    283.15000     25.00000    266.52000     24.99000\n",
      "  35.60    311.28000     24.99000    308.37000     25.22000\n",
      "  35.80    365.68000     25.17000    313.57000     24.96000\n",
      "  36.00    299.34000     25.37000    386.63000     25.04000\n",
      "  36.20    352.59000     24.86000    297.12000     24.77000\n",
      "  36.40    405.15000     25.66000    379.15000     25.52000\n",
      "  36.60    408.04000     26.11000    388.80000     25.99000\n",
      "  36.80    482.85000     26.54000    466.70000     26.49000\n",
      "  37.00    523.17000     26.58000    573.00000     26.85000\n",
      "  37.20    556.66000     26.84000    497.09000     27.08000\n",
      "  37.40    452.16000     26.42000    495.05000     26.52000\n",
      "  37.60    460.85000     26.10000    481.13000     26.04000\n",
      "  37.80    366.78000     26.23000    335.95000     26.21000\n",
      "  38.00    317.79000     25.72000    275.14000     25.76000\n",
      "  38.20    292.59000     24.28000    236.05000     24.23000\n",
      "  38.40    242.76000     24.05000    255.13000     24.14000\n",
      "  38.60    326.62000     24.60000    304.20000     24.49000\n",
      "  38.80    426.07000     24.30000    415.09000     24.26000\n",
      "  39.00    477.83000     25.09000    504.80000     25.00000\n",
      "  39.20    595.07000     25.42000    523.94000     25.20000\n",
      "  39.40    527.00000     25.43000    517.35000     25.57000\n",
      "  39.60    511.93000     25.50000    488.38000     25.67000\n",
      "  39.80    419.83000     25.41000    453.16000     25.53000\n",
      "  40.00    396.58000     24.78000    358.50000     24.95000\n",
      "  40.20    315.96000     24.48000    344.91000     24.45000\n",
      "  40.40    246.64000     24.32000    291.77000     24.20000\n",
      "  40.60    237.80000     23.81000    273.24000     23.89000\n",
      "  40.80    228.73000     23.63000    236.95000     23.50000\n",
      "  41.00    253.87000     23.17000    211.31000     23.32000\n",
      "  41.20    238.63000     23.13000    168.28000     23.26000\n",
      "  41.40    192.84000     22.71000    203.35000     22.87000\n",
      "  41.60    206.37000     23.20000    190.52000     23.12000\n",
      "  41.80    241.81000     23.29000    259.87000     23.16000\n",
      "  42.00    310.88000     23.14000    239.64000     23.40000\n",
      "  42.20    334.30000     23.46000    360.80000     23.24000\n",
      "  42.40    337.69000     23.61000    374.10000     23.55000\n",
      "  42.60    372.87000     23.64000    391.36000     23.61000\n",
      "  42.80    443.41000     23.82000    457.42000     23.93000\n",
      "  43.00    535.11000     24.53000    499.05000     24.49000\n",
      "  43.20    629.13000     24.50000    645.74000     24.51000\n",
      "  43.40    706.95000     24.21000    707.56000     24.25000\n",
      "  43.60    749.78000     24.42000    764.23000     24.27000\n",
      "  43.80    740.38000     24.47000    755.31000     24.74000\n",
      "  44.00    719.85000     23.92000    769.21000     24.05000\n",
      "  44.20    663.90000     24.37000    687.61000     24.25000\n",
      "  44.40    597.45000     23.87000    574.59000     23.82000\n",
      "  44.60    491.42000     23.46000    550.54000     23.54000\n",
      "  44.80    507.06000     23.33000    552.11000     23.64000\n",
      "  45.00    469.58000     23.52000    501.98000     23.50000\n",
      "  45.20    544.56000     23.31000    530.48000     23.35000\n",
      "  45.40    572.90000     23.71000    585.28000     23.79000\n",
      "  45.60    671.72000     24.14000    599.56000     24.05000\n",
      "  45.80    570.99000     24.26000    635.60000     24.15000\n",
      "  46.00    629.18000     24.10000    667.18000     24.08000\n",
      "  46.20    550.45000     24.13000    558.57000     23.90000\n",
      "  46.40    508.20000     23.57000    465.97000     23.69000\n",
      "  46.60    410.03000     23.44000    409.24000     23.51000\n",
      "  46.80    305.75000     23.14000    310.49000     23.43000\n",
      "  47.00    253.97000     23.20000    264.14000     23.25000\n",
      "  47.20    230.60000     22.96000    189.66000     22.92000\n",
      "  47.40    171.98000     22.85000    197.31000     22.88000\n",
      "  47.60    178.34000     23.01000    204.33000     23.01000\n",
      "  47.80    182.88000     22.52000    204.68000     22.57000\n",
      "  48.00    232.51000     23.00000    244.12000     22.93000\n",
      "  48.20    223.03000     23.11000    216.63000     23.11000\n",
      "  48.40    252.00000     23.18000    279.79000     23.22000\n",
      "  48.60    322.82000     23.43000    329.00000     23.36000\n",
      "  48.80    371.11000     23.51000    353.11000     23.59000\n",
      "  49.00    454.87000     22.87000    474.69000     22.95000\n",
      "  49.20    547.85000     23.08000    535.47000     23.17000\n",
      "  49.40    542.41000     23.51000    524.52000     23.81000\n",
      "  49.60    601.02000     23.68000    593.30000     23.53000\n",
      "  49.80    563.17000     23.71000    607.94000     23.89000\n",
      "  50.00    616.16000     23.56000    602.81000     23.85000\n",
      "  50.20    590.61000     24.01000    592.79000     23.95000\n",
      "  50.40    606.30000     23.85000    566.65000     23.74000\n",
      "  50.60    596.72000     24.53000    577.90000     24.38000\n",
      "  50.80    597.00000     24.65000    603.64000     24.67000\n",
      "  51.00    650.98000     24.74000    604.03000     24.78000\n",
      "  51.20    699.22000     24.94000    707.18000     24.90000\n",
      "  51.40    681.01000     25.00000    733.38000     25.02000\n",
      "  51.60    733.45000     24.92000    751.33000     24.91000\n",
      "  51.80    671.11000     24.83000    707.95000     25.03000\n",
      "  52.00    645.71000     25.19000    626.69000     25.25000\n",
      "  52.20    534.23000     24.80000    565.11000     25.00000\n",
      "  52.40    491.69000     24.81000    491.01000     24.88000\n",
      "  52.60    423.39000     24.66000    447.70000     24.70000\n",
      "  52.80    355.10000     24.57000    325.18000     24.49000\n",
      "  53.00    338.34000     23.98000    332.01000     23.91000\n",
      "  53.20    297.81000     24.50000    308.95000     24.52000\n",
      "  53.40    260.15000     24.38000    292.71000     24.47000\n",
      "  53.60    235.44000     24.54000    219.19000     24.56000\n",
      "  53.80    229.74000     24.27000    241.28000     24.46000\n",
      "  54.00    304.75000     24.48000    298.07000     24.68000\n",
      "  54.20    335.63000     24.64000    341.16000     24.36000\n",
      "  54.40    325.95000     24.59000    385.95000     24.58000\n",
      "  54.60    381.82000     25.07000    416.19000     24.95000\n",
      "  54.80    485.78000     24.99000    449.41000     25.11000\n",
      "  55.00    509.35000     25.01000    487.73000     24.83000\n",
      "  55.20    564.52000     24.68000    566.09000     24.97000\n",
      "  55.40    623.89000     23.41000    586.49000     23.46000\n",
      "  55.60    673.37000     23.15000    701.90000     23.26000\n",
      "  55.80    775.57000     24.01000    817.24000     23.95000\n",
      "  56.00    862.45000     24.44000    871.07000     24.28000\n",
      "  56.20   1011.14000     24.55000    987.26000     24.54000\n",
      "  56.40   1148.71000     24.84000   1092.56000     24.91000\n",
      "  56.60   1158.75000     25.06000   1164.54000     25.19000\n",
      "  56.80   1205.60000     24.99000   1218.25000     24.97000\n",
      "  57.00   1240.84000     25.28000   1198.98000     25.20000\n",
      "  57.20   1226.76000     25.18000   1234.05000     25.45000\n",
      "  57.40   1108.71000     24.91000   1137.03000     25.00000\n",
      "  57.60   1004.48000     24.52000    994.74000     24.38000\n",
      "  57.80    891.40000     24.17000    902.16000     24.13000\n",
      "  58.00    743.65000     23.59000    739.09000     23.59000\n",
      "  58.20    599.86000     23.34000    600.04000     23.26000\n",
      "  58.40    479.42000     23.25000    591.53000     23.22000\n",
      "  58.60    451.96000     23.04000    464.94000     23.07000\n",
      "  58.80    367.48000     22.82000    404.87000     22.76000\n",
      "  59.00    444.64000     22.83000    400.76000     22.80000\n",
      "  59.20    384.80000     22.84000    450.85000     22.90000\n",
      "  59.40    420.50000     22.54000    428.59000     22.85000\n",
      "  59.60    491.40000     23.25000    496.90000     23.31000\n",
      "  59.80    551.35000     23.28000    527.44000     23.42000\n",
      "  60.00    598.91000     23.38000    527.64000     23.44000\n",
      "  60.20    552.78000     23.47000    570.66000     23.37000\n",
      "  60.40    553.53000     23.33000    567.92000     23.52000\n",
      "  60.60    493.39000     23.27000    513.88000     23.14000\n",
      "  60.80    498.96000     23.16000    556.75000     23.19000\n",
      "  61.00    442.86000     23.14000    512.97000     23.33000\n",
      "  61.20    453.57000     23.07000    406.07000     23.24000\n",
      "  61.40    375.95000     23.17000    418.31000     23.12000\n",
      "  61.60    377.59000     22.82000    321.20000     23.11000\n",
      "  61.80    295.50000     22.90000    336.81000     22.94000\n",
      "  62.00    231.85000     22.35000    282.16000     22.35000\n",
      "  62.20    192.83000     22.78000    233.22000     22.68000\n",
      "  62.40    208.53000     22.84000    216.56000     22.74000\n",
      "  62.60    138.22000     22.49000    175.48000     22.52000\n",
      "  62.80    156.76000     22.45000    159.85000     22.63000\n",
      "  63.00    151.29000     21.95000    205.33000     21.66000\n",
      "  63.20    140.53000     21.52000    167.69000     21.77000\n",
      "  63.40    176.62000     21.56000    166.39000     21.66000\n",
      "  63.60    189.92000     21.96000    206.42000     21.73000\n",
      "  63.80    188.76000     21.76000    184.20000     21.66000\n",
      "  64.00    267.52000     21.68000    226.10000     21.65000\n",
      "  64.20    193.32000     21.69000    262.19000     21.77000\n",
      "  64.40    259.76000     21.87000    258.57000     21.75000\n",
      "  64.60    214.75000     21.21000    254.52000     21.11000\n",
      "  64.80    278.07000     21.86000    257.72000     21.85000\n",
      "  65.00    295.53000     21.85000    261.97000     21.87000\n",
      "  65.20    302.03000     21.92000    300.01000     21.84000\n",
      "  65.40    357.19000     21.80000    354.39000     21.97000\n",
      "  65.60    351.80000     22.02000    365.58000     22.07000\n",
      "  65.80    395.31000     21.80000    404.25000     21.89000\n",
      "  66.00    437.76000     21.96000    392.98000     22.00000\n",
      "  66.20    467.93000     22.32000    456.46000     22.38000\n",
      "  66.40    468.46000     22.35000    470.06000     22.58000\n",
      "  66.60    470.71000     22.34000    495.82000     22.28000\n",
      "  66.80    508.54000     22.48000    524.38000     22.31000\n",
      "  67.00    493.45000     22.32000    478.45000     22.31000\n",
      "  67.20    523.58000     22.05000    508.43000     21.92000\n",
      "  67.40    478.96000     22.29000    498.29000     22.50000\n",
      "  67.60    437.20000     22.25000    399.12000     22.41000\n",
      "  67.80    410.75000     22.23000    417.56000     22.17000\n",
      "  68.00    402.25000     22.28000    374.52000     22.16000\n",
      "  68.20    383.88000     22.14000    351.80000     22.12000\n",
      "  68.40    318.91000     22.28000    317.03000     22.33000\n",
      "  68.60    347.58000     22.49000    333.94000     22.38000\n",
      "  68.80    275.02000     22.49000    332.31000     22.56000\n",
      "  69.00    341.69000     22.50000    339.19000     22.54000\n",
      "  69.20    328.83000     22.37000    296.38000     22.42000\n",
      "  69.40    376.03000     22.38000    382.65000     22.52000\n",
      "  69.60    342.81000     22.48000    318.24000     22.70000\n",
      "  69.80    371.89000     22.84000    381.11000     22.62000\n",
      "  70.00    306.79000     23.22000    432.65000     23.03000\n",
      "  70.20    388.76000     23.17000    384.34000     23.30000\n",
      "  70.40    402.77000     23.33000    415.44000     23.37000\n",
      "  70.60    468.63000     23.47000    464.21000     23.60000\n",
      "  70.80    467.41000     23.54000    417.67000     23.54000\n",
      "  71.00    441.58000     23.68000    455.51000     23.48000\n",
      "  71.20    420.15000     24.09000    419.65000     24.12000\n",
      "  71.40    469.81000     24.13000    445.42000     24.22000\n",
      "  71.60    406.31000     24.31000    431.33000     24.13000\n",
      "  71.80    411.69000     24.35000    413.67000     24.03000\n",
      "  72.00    397.86000     24.27000    393.73000     24.07000\n",
      "  72.20    388.89000     24.28000    415.24000     23.93000\n",
      "  72.40    410.09000     24.43000    320.33000     24.31000\n",
      "  72.60    347.83000     24.56000    331.16000     24.65000\n",
      "  72.80    358.38000     24.56000    311.39000     24.51000\n",
      "  73.00    340.00000     24.66000    342.47000     24.83000\n",
      "  73.20    315.62000     24.73000    407.07000     24.78000\n",
      "  73.40    359.86000     24.74000    378.60000     24.82000\n",
      "  73.60    396.03000     24.23000    370.53000     24.19000\n",
      "  73.80    425.97000     24.62000    421.12000     24.88000\n",
      "  74.00    449.83000     24.92000    442.68000     24.82000\n",
      "  74.20    478.79000     24.89000    427.18000     24.95000\n",
      "  74.40    486.65000     24.92000    475.43000     24.99000\n",
      "  74.60    552.60000     25.29000    496.92000     25.16000\n",
      "  74.80    572.30000     25.29000    587.09000     25.24000\n",
      "  75.00    615.24000     25.70000    632.31000     25.52000\n",
      "  75.20    676.60000     26.05000    652.23000     26.15000\n",
      "  75.40    692.59000     26.16000    691.45000     26.35000\n",
      "  75.60    659.96000     26.28000    674.67000     26.18000\n",
      "  75.80    731.70000     26.30000    685.44000     26.32000\n",
      "  76.00    705.01000     26.21000    658.28000     26.31000\n",
      "  76.20    655.79000     26.11000    669.81000     26.37000\n",
      "  76.40    667.63000     26.79000    657.36000     27.22000\n",
      "  76.60    669.15000     26.93000    624.14000     26.90000\n",
      "  76.80    637.38000     26.99000    672.21000     26.92000\n",
      "  77.00    567.46000     26.88000    587.13000     26.78000\n",
      "  77.20    547.94000     26.70000    585.11000     26.76000\n",
      "  77.40    498.04000     26.49000    584.07000     26.45000\n",
      "  77.60    443.92000     26.94000    512.61000     26.61000\n",
      "  77.80    471.20000     27.05000    439.22000     27.23000\n",
      "  78.00    444.64000     27.09000    418.65000     27.08000\n",
      "  78.20    426.69000     27.01000    457.18000     26.81000\n",
      "  78.40    484.98000     27.12000    475.99000     27.04000\n",
      "  78.60    436.84000     27.08000    439.56000     27.08000\n",
      "  78.80    425.16000     27.14000    401.99000     27.08000\n",
      "  79.00    440.43000     27.98000    412.37000     28.09000\n",
      "  79.20    428.72000     28.12000    433.36000     28.25000\n",
      "  79.40    432.35000     27.89000    458.37000     28.25000\n",
      "  79.60    455.61000     28.14000    491.40000     28.13000\n",
      "  79.80    498.22000     27.80000    440.60000     27.98000\n",
      "  80.00    408.89000     27.81000    393.54000     28.01000\n",
      "<class 'cryspy.f_experiment.f_powder_1d.cl_pd_meas.PdMeas'>\n"
     ]
    }
   ],
   "source": [
    "for datablock in rhochi.experiments:\n",
    "    print(datablock.meas)\n",
    "    print(type(datablock.meas))\n",
    "\n",
    "\n"
   ]
  },
  {
   "cell_type": "code",
   "execution_count": 16,
   "metadata": {},
   "outputs": [
    {
     "name": "stdout",
     "output_type": "stream",
     "text": [
      "-3.468() (name: _atom_site_magnetism_aniso_chi_11, refinement: True)\n"
     ]
    }
   ],
   "source": [
    "for fitable in rhochi.get_variables():\n",
    "    print(fitable)"
   ]
  },
  {
   "cell_type": "code",
   "execution_count": 23,
   "metadata": {},
   "outputs": [
    {
     "name": "stdout",
     "output_type": "stream",
     "text": [
      "8.56212 (name: _cell_length_a)\n"
     ]
    }
   ],
   "source": [
    "print(rhochi.crystals[0].cell.a)"
   ]
  },
  {
   "cell_type": "markdown",
   "metadata": {},
   "source": [
    "# Use NeuPy Model"
   ]
  },
  {
   "cell_type": "code",
   "execution_count": 7,
   "metadata": {},
   "outputs": [],
   "source": [
    "rcif = neupy.f_rcif.RCif()\n",
    "rcif.load_from_file(rcif_file_path)\n",
    "model = neupy.f_api_rcif.api_rcif_model.conv_rcif_to_model(rcif)"
   ]
  },
  {
   "cell_type": "code",
   "execution_count": 8,
   "metadata": {},
   "outputs": [
    {
     "name": "stdout",
     "output_type": "stream",
     "text": [
      "8.56212\n"
     ]
    }
   ],
   "source": [
    "for phase in model._list_crystal:\n",
    "    print(phase.get_val('cell').get_val('a'))"
   ]
  },
  {
   "cell_type": "code",
   "execution_count": 23,
   "metadata": {},
   "outputs": [
    {
     "name": "stdout",
     "output_type": "stream",
     "text": [
      "pnd\n"
     ]
    }
   ],
   "source": [
    "for phase in model._list_experiment:\n",
    "    print(phase.get_val('name'))"
   ]
  },
  {
   "cell_type": "code",
   "execution_count": 13,
   "metadata": {},
   "outputs": [
    {
     "name": "stdout",
     "output_type": "stream",
     "text": [
      "[ 4.   4.2  4.4  4.6  4.8  5.   5.2  5.4  5.6  5.8  6.   6.2  6.4  6.6\n",
      "  6.8  7.   7.2  7.4  7.6  7.8  8.   8.2  8.4  8.6  8.8  9.   9.2  9.4\n",
      "  9.6  9.8 10.  10.2 10.4 10.6 10.8 11.  11.2 11.4 11.6 11.8 12.  12.2\n",
      " 12.4 12.6 12.8 13.  13.2 13.4 13.6 13.8 14.  14.2 14.4 14.6 14.8 15.\n",
      " 15.2 15.4 15.6 15.8 16.  16.2 16.4 16.6 16.8 17.  17.2 17.4 17.6 17.8\n",
      " 18.  18.2 18.4 18.6 18.8 19.  19.2 19.4 19.6 19.8 20.  20.2 20.4 20.6\n",
      " 20.8 21.  21.2 21.4 21.6 21.8 22.  22.2 22.4 22.6 22.8 23.  23.2 23.4\n",
      " 23.6 23.8 24.  24.2 24.4 24.6 24.8 25.  25.2 25.4 25.6 25.8 26.  26.2\n",
      " 26.4 26.6 26.8 27.  27.2 27.4 27.6 27.8 28.  28.2 28.4 28.6 28.8 29.\n",
      " 29.2 29.4 29.6 29.8 30.  30.2 30.4 30.6 30.8 31.  31.2 31.4 31.6 31.8\n",
      " 32.  32.2 32.4 32.6 32.8 33.  33.2 33.4 33.6 33.8 34.  34.2 34.4 34.6\n",
      " 34.8 35.  35.2 35.4 35.6 35.8 36.  36.2 36.4 36.6 36.8 37.  37.2 37.4\n",
      " 37.6 37.8 38.  38.2 38.4 38.6 38.8 39.  39.2 39.4 39.6 39.8 40.  40.2\n",
      " 40.4 40.6 40.8 41.  41.2 41.4 41.6 41.8 42.  42.2 42.4 42.6 42.8 43.\n",
      " 43.2 43.4 43.6 43.8 44.  44.2 44.4 44.6 44.8 45.  45.2 45.4 45.6 45.8\n",
      " 46.  46.2 46.4 46.6 46.8 47.  47.2 47.4 47.6 47.8 48.  48.2 48.4 48.6\n",
      " 48.8 49.  49.2 49.4 49.6 49.8 50.  50.2 50.4 50.6 50.8 51.  51.2 51.4\n",
      " 51.6 51.8 52.  52.2 52.4 52.6 52.8 53.  53.2 53.4 53.6 53.8 54.  54.2\n",
      " 54.4 54.6 54.8 55.  55.2 55.4 55.6 55.8 56.  56.2 56.4 56.6 56.8 57.\n",
      " 57.2 57.4 57.6 57.8 58.  58.2 58.4 58.6 58.8 59.  59.2 59.4 59.6 59.8\n",
      " 60.  60.2 60.4 60.6 60.8 61.  61.2 61.4 61.6 61.8 62.  62.2 62.4 62.6\n",
      " 62.8 63.  63.2 63.4 63.6 63.8 64.  64.2 64.4 64.6 64.8 65.  65.2 65.4\n",
      " 65.6 65.8 66.  66.2 66.4 66.6 66.8 67.  67.2 67.4 67.6 67.8 68.  68.2\n",
      " 68.4 68.6 68.8 69.  69.2 69.4 69.6 69.8 70.  70.2 70.4 70.6 70.8 71.\n",
      " 71.2 71.4 71.6 71.8 72.  72.2 72.4 72.6 72.8 73.  73.2 73.4 73.6 73.8\n",
      " 74.  74.2 74.4 74.6 74.8 75.  75.2 75.4 75.6 75.8 76.  76.2 76.4 76.6\n",
      " 76.8 77.  77.2 77.4 77.6 77.8 78.  78.2 78.4 78.6 78.8 79.  79.2 79.4\n",
      " 79.6 79.8 80. ]\n"
     ]
    }
   ],
   "source": [
    "for phase in model._list_experiment:\n",
    "    print(phase.get_val('observed_data').get_val('tth'))"
   ]
  },
  {
   "cell_type": "markdown",
   "metadata": {},
   "source": [
    "# Use Python Proxy Model "
   ]
  },
  {
   "cell_type": "code",
   "execution_count": 37,
   "metadata": {},
   "outputs": [],
   "source": [
    "pythonModel = PythonModel()\n",
    "pythonModel.load_rhochi_model_and_update_proxy(rcif_file_path)"
   ]
  },
  {
   "cell_type": "code",
   "execution_count": 41,
   "metadata": {},
   "outputs": [
    {
     "name": "stdout",
     "output_type": "stream",
     "text": [
      "cell_length_a {'value': '8.5621', 'error': '', 'refine': False, 'title': 'a (Å)'}\n",
      "cell_length_b {'value': '8.5621', 'error': '', 'refine': False, 'title': 'b (Å)'}\n",
      "cell_length_c {'value': '8.5621', 'error': '', 'refine': False, 'title': 'c (Å)'}\n",
      "cell_angle_alpha {'value': '90.0000', 'error': '', 'refine': False, 'title': 'alpha (Å)'}\n",
      "cell_angle_beta {'value': '90.0000', 'error': '', 'refine': False, 'title': 'beta (Å)'}\n",
      "cell_angle_gamma {'value': '90.0000', 'error': '', 'refine': False, 'title': 'gamma (Å)'}\n",
      "datablock Fe3O4\n"
     ]
    }
   ],
   "source": [
    "for key, value in pythonModel.cell_dict.items():\n",
    "    print(key, value)"
   ]
  },
  {
   "cell_type": "markdown",
   "metadata": {},
   "source": [
    "# Tests"
   ]
  },
  {
   "cell_type": "code",
   "execution_count": 18,
   "metadata": {},
   "outputs": [],
   "source": [
    "data = []\n",
    "m = 3\n",
    "data.append([i for i in range(m)])\n",
    "data.append([random.randrange(1000) for i in range(m)])\n",
    "data.append([0.1 for i in range(m)])\n",
    "data.append([random.randrange(1000) for i in range(m)])"
   ]
  },
  {
   "cell_type": "code",
   "execution_count": 19,
   "metadata": {},
   "outputs": [
    {
     "name": "stdout",
     "output_type": "stream",
     "text": [
      "[[0, 1, 2], [164, 504, 18], [0.1, 0.1, 0.1], [869, 740, 52]]\n"
     ]
    }
   ],
   "source": [
    "print(data)"
   ]
  },
  {
   "cell_type": "code",
   "execution_count": 20,
   "metadata": {},
   "outputs": [
    {
     "name": "stdout",
     "output_type": "stream",
     "text": [
      "[0, 1, 2]\n"
     ]
    }
   ],
   "source": [
    "print(data[0])"
   ]
  },
  {
   "cell_type": "code",
   "execution_count": 21,
   "metadata": {},
   "outputs": [
    {
     "data": {
      "text/plain": [
       "4"
      ]
     },
     "execution_count": 21,
     "metadata": {},
     "output_type": "execute_result"
    }
   ],
   "source": [
    "len(data)"
   ]
  },
  {
   "cell_type": "code",
   "execution_count": 22,
   "metadata": {},
   "outputs": [
    {
     "data": {
      "text/plain": [
       "3"
      ]
     },
     "execution_count": 22,
     "metadata": {},
     "output_type": "execute_result"
    }
   ],
   "source": [
    "len(data[0])"
   ]
  },
  {
   "cell_type": "code",
   "execution_count": 26,
   "metadata": {},
   "outputs": [],
   "source": [
    "P = [[1, 2, 3], [4, 5, 6]]"
   ]
  },
  {
   "cell_type": "code",
   "execution_count": 28,
   "metadata": {},
   "outputs": [
    {
     "data": {
      "text/plain": [
       "[[1, 2, 3], [4, 5, 6]]"
      ]
     },
     "execution_count": 28,
     "metadata": {},
     "output_type": "execute_result"
    }
   ],
   "source": [
    "P"
   ]
  },
  {
   "cell_type": "code",
   "execution_count": 29,
   "metadata": {},
   "outputs": [],
   "source": [
    "P[0] = [7, 8, 9]"
   ]
  },
  {
   "cell_type": "code",
   "execution_count": 30,
   "metadata": {},
   "outputs": [
    {
     "data": {
      "text/plain": [
       "[[7, 8, 9], [4, 5, 6]]"
      ]
     },
     "execution_count": 30,
     "metadata": {},
     "output_type": "execute_result"
    }
   ],
   "source": [
    "P"
   ]
  },
  {
   "cell_type": "code",
   "execution_count": null,
   "metadata": {},
   "outputs": [],
   "source": []
  }
 ],
 "metadata": {
  "kernelspec": {
   "display_name": "Python 3",
   "language": "python",
   "name": "python3"
  },
  "language_info": {
   "codemirror_mode": {
    "name": "ipython",
    "version": 3
   },
   "file_extension": ".py",
   "mimetype": "text/x-python",
   "name": "python",
   "nbconvert_exporter": "python",
   "pygments_lexer": "ipython3",
   "version": "3.7.3"
  },
  "toc": {
   "base_numbering": 1,
   "nav_menu": {},
   "number_sections": true,
   "sideBar": true,
   "skip_h1_title": false,
   "title_cell": "Table of Contents",
   "title_sidebar": "Contents",
   "toc_cell": false,
   "toc_position": {},
   "toc_section_display": true,
   "toc_window_display": true
  }
 },
 "nbformat": 4,
 "nbformat_minor": 2
}
