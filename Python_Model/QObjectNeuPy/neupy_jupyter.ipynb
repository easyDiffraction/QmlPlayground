{
 "cells": [
  {
   "cell_type": "code",
   "execution_count": 1,
   "metadata": {},
   "outputs": [],
   "source": [
    "import os, sys\n",
    "import random\n",
    "import numpy as np"
   ]
  },
  {
   "cell_type": "code",
   "execution_count": 2,
   "metadata": {},
   "outputs": [],
   "source": [
    "from PySide2.QtCore import QUrl, Qt, QCoreApplication\n",
    "from PySide2.QtWidgets import QApplication\n",
    "from PySide2.QtQml import QQmlApplicationEngine\n",
    "\n",
    "from PySide2.QtCore import QObject, Signal, Slot, Property\n",
    "from PySide2.QtCore import QAbstractListModel, QModelIndex, QByteArray"
   ]
  },
  {
   "cell_type": "code",
   "execution_count": 3,
   "metadata": {},
   "outputs": [],
   "source": [
    "import neupy"
   ]
  },
  {
   "cell_type": "markdown",
   "metadata": {},
   "source": [
    "# Python Proxy Model"
   ]
  },
  {
   "cell_type": "code",
   "execution_count": 33,
   "metadata": {},
   "outputs": [],
   "source": [
    "class PythonModel(QObject):\n",
    "\n",
    "    def __init__(self, parent=None):\n",
    "        super().__init__(parent)\n",
    "        self._data_dict = {}\n",
    "        self._fitables_list = []\n",
    "        self._atom_site_list = []\n",
    "        self._cell_dict = {}\n",
    "\n",
    "    # ##############################################\n",
    "    # Private methods\n",
    "    # ##############################################\n",
    "\n",
    "    def _get_data_dict(self):\n",
    "        return self._data_dict\n",
    "\n",
    "    def _set_data_dict(self, data):\n",
    "        #self._data_dict = data.toVariant() # don't preserve order\n",
    "        for key, value in data.toVariant().items():\n",
    "            for subkey, subvalue in value.items():\n",
    "                self._data_dict[key][subkey] = subvalue\n",
    "        self.dataChanged.emit()\n",
    "\n",
    "    def _get_fitables_list(self):\n",
    "        self._fitables_list.clear()\n",
    "        # ADD header now\n",
    "        for key, value in self._data_dict.items():\n",
    "            for subkey, subvalue in value.items():\n",
    "                try:\n",
    "                    self._fitables_list.append({\n",
    "                        'datablock': key,\n",
    "                        'group': '',\n",
    "                        'subgroup': '',\n",
    "                        'name': subkey,\n",
    "                        'value': subvalue['value'],\n",
    "                        'error': subvalue['error'],\n",
    "                        'refine': subvalue['refine']\n",
    "                        })\n",
    "                except:\n",
    "                    pass\n",
    "                try:\n",
    "                    for subsubkey, subsubvalue in subvalue.items():\n",
    "                        for subsubsubkey, subsubsubvalue in subsubvalue.items():\n",
    "                            self._fitables_list.append({\n",
    "                                'datablock': key,\n",
    "                                'group': subkey,\n",
    "                                'subgroup': subsubkey,\n",
    "                                'name': subsubsubkey,\n",
    "                                'value': subsubsubvalue['value'],\n",
    "                                'error': subsubsubvalue['error'],\n",
    "                                'refine': subsubsubvalue['refine']\n",
    "                                })\n",
    "                except:\n",
    "                    pass\n",
    "        return self._fitables_list\n",
    "\n",
    "    def _get_atom_site_list(self):\n",
    "        self._atom_site_list.clear()\n",
    "        for key, value in self._data_dict.items():\n",
    "            try:\n",
    "                for subkey, subvalue in value['atom_site'].items():\n",
    "                   self._atom_site_list.append({'datablock': key, 'label': subkey, **subvalue})\n",
    "            except:\n",
    "                pass\n",
    "        return self._atom_site_list\n",
    "\n",
    "    def _get_cell_dict(self):\n",
    "        for key, value in self._data_dict.items():\n",
    "            try:\n",
    "                self._cell_dict['cell_length_a'] = value['cell_length_a']\n",
    "                self._cell_dict['cell_length_b'] = value['cell_length_b']\n",
    "                self._cell_dict['cell_length_c'] = value['cell_length_c']\n",
    "                self._cell_dict['cell_angle_alpha'] = value['cell_angle_alpha']\n",
    "                self._cell_dict['cell_angle_beta'] = value['cell_angle_beta']\n",
    "                self._cell_dict['cell_angle_gamma'] = value['cell_angle_gamma']\n",
    "                self._cell_dict['datablock'] = key\n",
    "            except:\n",
    "                pass\n",
    "        return self._cell_dict\n",
    "\n",
    "    def _set_fitable_from_rhochi_model(self, obj, name, title, datablock, group=\"\", subgroup=\"\"):\n",
    "        if datablock not in self._data_dict.keys():\n",
    "            self._data_dict[datablock] = {}\n",
    "        if group and subgroup:\n",
    "            pass\n",
    "        else:\n",
    "            if name not in self._data_dict[datablock].keys():\n",
    "                self._data_dict[datablock][name] = {}\n",
    "            if isinstance(obj, float) or isinstance(obj, int):\n",
    "                self._data_dict[datablock][name]['value'] = '{:.4f}'.format(obj)\n",
    "                self._data_dict[datablock][name]['error'] = ''\n",
    "                self._data_dict[datablock][name]['refine'] = False\n",
    "                self._data_dict[datablock][name]['title'] = title\n",
    "            elif isinstance(obj, neupy.f_common.cl_variable.Variable):\n",
    "                self._data_dict[datablock][name]['value'] = '{:.4f}'.format(obj.__getitem__(0))\n",
    "                self._data_dict[datablock][name]['error'] = '{:.4f}'.format(obj.__getitem__(4))\n",
    "                self._data_dict[datablock][name]['refine'] = obj.__getitem__(1)\n",
    "                self._data_dict[datablock][name]['title'] = title\n",
    "            else:\n",
    "                print(\"Unknown object type\", type(obj))\n",
    "\n",
    "    def _set_data_dict_from_rhochi_model(self):\n",
    "        #print(\"_set_data_dict_from_rhochi_model\")\n",
    "        self._data_dict.clear()\n",
    "        for phase in self._model._list_crystal:\n",
    "            self._set_fitable_from_rhochi_model(phase.get_val('cell').get_val('a'), 'cell_length_a', 'a (\\u212B)', phase.get_val('name'))\n",
    "            self._set_fitable_from_rhochi_model(phase.get_val('cell').get_val('b'), 'cell_length_b', 'b (\\u212B)', phase.get_val('name'))\n",
    "            self._set_fitable_from_rhochi_model(phase.get_val('cell').get_val('c'), 'cell_length_c', 'c (\\u212B)', phase.get_val('name'))\n",
    "            self._set_fitable_from_rhochi_model(phase.get_val('cell').get_val('alpha'), 'cell_angle_alpha', 'alpha (\\u212B)', phase.get_val('name'))\n",
    "            self._set_fitable_from_rhochi_model(phase.get_val('cell').get_val('beta'), 'cell_angle_beta', 'beta (\\u212B)', phase.get_val('name'))\n",
    "            self._set_fitable_from_rhochi_model(phase.get_val('cell').get_val('gamma'), 'cell_angle_gamma', 'gamma (\\u212B)', phase.get_val('name'))\n",
    "\n",
    "    def _update_rhochi_cell_model(self):\n",
    "        #print(\"_update_rhochi_cell_model\")\n",
    "        for phase in self._model._list_crystal:\n",
    "            a = float(self._data_dict[phase.get_val('name')]['cell_length_a']['value'])\n",
    "            b = float(self._data_dict[phase.get_val('name')]['cell_length_b']['value'])\n",
    "            c = float(self._data_dict[phase.get_val('name')]['cell_length_c']['value'])\n",
    "            alpha = float(self._data_dict[phase.get_val('name')]['cell_angle_alpha']['value'])\n",
    "            beta = float(self._data_dict[phase.get_val('name')]['cell_angle_beta']['value'])\n",
    "            gamma = float(self._data_dict[phase.get_val('name')]['cell_angle_gamma']['value'])\n",
    "            #\n",
    "            if self._data_dict[phase.get_val('name')]['cell_length_a']['refine']:\n",
    "                a = neupy.f_common.cl_variable.Variable(val = a, ref=True)\n",
    "            if self._data_dict[phase.get_val('name')]['cell_length_b']['refine']:\n",
    "                b = neupy.f_common.cl_variable.Variable(val = b, ref=True)\n",
    "            if self._data_dict[phase.get_val('name')]['cell_length_c']['refine']:\n",
    "                c = neupy.f_common.cl_variable.Variable(val = c, ref=True)\n",
    "            if self._data_dict[phase.get_val('name')]['cell_angle_alpha']['refine']:\n",
    "                alpha = neupy.f_common.cl_variable.Variable(val = alpha, ref=True)\n",
    "            if self._data_dict[phase.get_val('name')]['cell_angle_beta']['refine']:\n",
    "                beta = neupy.f_common.cl_variable.Variable(val = beta, ref=True)\n",
    "            if self._data_dict[phase.get_val('name')]['cell_angle_gamma']['refine']:\n",
    "                gamma = neupy.f_common.cl_variable.Variable(val = gamma, ref=True)\n",
    "            #\n",
    "            cell = phase.get_val('cell')\n",
    "            cell.set_val(a = a, b = b, c = c, alpha = alpha, beta = beta, gamma = gamma)\n",
    "            #\n",
    "            phase.set_val(cell = cell)\n",
    "\n",
    "    # ##############################################\n",
    "    # Signals\n",
    "    # ##############################################\n",
    "\n",
    "    #@Signal\n",
    "    #def dataChanged(self):\n",
    "    #    pass\n",
    "\n",
    "    dataChanged = Signal()\n",
    "\n",
    "    # ##############################################\n",
    "    # QML accessible public slots\n",
    "    # ##############################################\n",
    "\n",
    "    #@Slot('QJSValue')\n",
    "    #def set_data(self, data):\n",
    "    #    self._data = data.toVariant()\n",
    "    #    self.dataChanged.emit()\n",
    "\n",
    "    @Slot()\n",
    "    def random_change_cell_length_a(self):\n",
    "        phase = self._model._list_crystal[0]\n",
    "        self._data_dict[phase.get_val('name')]['cell_length_a']['value'] = '{:.4f}'.format(random.random())\n",
    "        self.dataChanged.emit()\n",
    "\n",
    "    @Slot(str)\n",
    "    def load_rhochi_model_and_update_proxy(self, path):\n",
    "        #print(\"load_rhochi_model_and_update_proxy: \", path)\n",
    "        self._rcif_file_absolute_path = path\n",
    "        self._rcif = neupy.f_rcif.RCif()\n",
    "        self._rcif.load_from_file(self._rcif_file_absolute_path)\n",
    "        self._model = neupy.f_api_rcif.api_rcif_model.conv_rcif_to_model(self._rcif)\n",
    "        self._set_data_dict_from_rhochi_model()\n",
    "        self._project_opened = True\n",
    "        self.dataChanged.emit()\n",
    "\n",
    "    @Slot(result='QVariant')\n",
    "    def refine_model(self):\n",
    "        #print(\"refine_model\")\n",
    "        self.update_rhochi_model()\n",
    "        try:\n",
    "            res = self._model.refine_model()\n",
    "            if res is None:\n",
    "                return \"No refinable parameters found\"\n",
    "        except np.linalg.LinAlgError as err:\n",
    "            return str(err)\n",
    "        except:\n",
    "            return \"Unknow error during refinement\"\n",
    "        self._set_data_dict_from_rhochi_model()\n",
    "        self.dataChanged.emit()\n",
    "        return dict(res)\n",
    "\n",
    "    @Slot()\n",
    "    def update_rhochi_model(self):\n",
    "        #print(\"update_rhochi_model\")\n",
    "        self._update_rhochi_cell_model()\n",
    "\n",
    "    # ##############################################\n",
    "    # QML accessible properties\n",
    "    # ##############################################\n",
    "\n",
    "    data = Property('QVariant', _get_data_dict, _set_data_dict, notify=dataChanged)\n",
    "    fitables_list = Property('QVariant', _get_fitables_list, notify=dataChanged)\n",
    "    atom_site_list = Property('QVariant', _get_atom_site_list, notify=dataChanged)\n",
    "    cell_dict = Property('QVariant', _get_cell_dict, notify=dataChanged)"
   ]
  },
  {
   "cell_type": "markdown",
   "metadata": {},
   "source": [
    "# Path to RCif"
   ]
  },
  {
   "cell_type": "code",
   "execution_count": 6,
   "metadata": {},
   "outputs": [],
   "source": [
    "jupyter_ipynb_path = %pwd\n",
    "rcif_file_path = os.path.join(jupyter_ipynb_path, \"neupy-master\", \"examples\", \"Fe3O4_0T_powder_1d\", \"full.rcif\")"
   ]
  },
  {
   "cell_type": "markdown",
   "metadata": {},
   "source": [
    "# Use NeuPy Model"
   ]
  },
  {
   "cell_type": "code",
   "execution_count": 7,
   "metadata": {},
   "outputs": [],
   "source": [
    "rcif = neupy.f_rcif.RCif()\n",
    "rcif.load_from_file(rcif_file_path)\n",
    "model = neupy.f_api_rcif.api_rcif_model.conv_rcif_to_model(rcif)"
   ]
  },
  {
   "cell_type": "code",
   "execution_count": 8,
   "metadata": {},
   "outputs": [
    {
     "name": "stdout",
     "output_type": "stream",
     "text": [
      "8.56212\n"
     ]
    }
   ],
   "source": [
    "for phase in model._list_crystal:\n",
    "    print(phase.get_val('cell').get_val('a'))"
   ]
  },
  {
   "cell_type": "code",
   "execution_count": 23,
   "metadata": {},
   "outputs": [
    {
     "name": "stdout",
     "output_type": "stream",
     "text": [
      "pnd\n"
     ]
    }
   ],
   "source": [
    "for phase in model._list_experiment:\n",
    "    print(phase.get_val('name'))"
   ]
  },
  {
   "cell_type": "code",
   "execution_count": 13,
   "metadata": {},
   "outputs": [
    {
     "name": "stdout",
     "output_type": "stream",
     "text": [
      "[ 4.   4.2  4.4  4.6  4.8  5.   5.2  5.4  5.6  5.8  6.   6.2  6.4  6.6\n",
      "  6.8  7.   7.2  7.4  7.6  7.8  8.   8.2  8.4  8.6  8.8  9.   9.2  9.4\n",
      "  9.6  9.8 10.  10.2 10.4 10.6 10.8 11.  11.2 11.4 11.6 11.8 12.  12.2\n",
      " 12.4 12.6 12.8 13.  13.2 13.4 13.6 13.8 14.  14.2 14.4 14.6 14.8 15.\n",
      " 15.2 15.4 15.6 15.8 16.  16.2 16.4 16.6 16.8 17.  17.2 17.4 17.6 17.8\n",
      " 18.  18.2 18.4 18.6 18.8 19.  19.2 19.4 19.6 19.8 20.  20.2 20.4 20.6\n",
      " 20.8 21.  21.2 21.4 21.6 21.8 22.  22.2 22.4 22.6 22.8 23.  23.2 23.4\n",
      " 23.6 23.8 24.  24.2 24.4 24.6 24.8 25.  25.2 25.4 25.6 25.8 26.  26.2\n",
      " 26.4 26.6 26.8 27.  27.2 27.4 27.6 27.8 28.  28.2 28.4 28.6 28.8 29.\n",
      " 29.2 29.4 29.6 29.8 30.  30.2 30.4 30.6 30.8 31.  31.2 31.4 31.6 31.8\n",
      " 32.  32.2 32.4 32.6 32.8 33.  33.2 33.4 33.6 33.8 34.  34.2 34.4 34.6\n",
      " 34.8 35.  35.2 35.4 35.6 35.8 36.  36.2 36.4 36.6 36.8 37.  37.2 37.4\n",
      " 37.6 37.8 38.  38.2 38.4 38.6 38.8 39.  39.2 39.4 39.6 39.8 40.  40.2\n",
      " 40.4 40.6 40.8 41.  41.2 41.4 41.6 41.8 42.  42.2 42.4 42.6 42.8 43.\n",
      " 43.2 43.4 43.6 43.8 44.  44.2 44.4 44.6 44.8 45.  45.2 45.4 45.6 45.8\n",
      " 46.  46.2 46.4 46.6 46.8 47.  47.2 47.4 47.6 47.8 48.  48.2 48.4 48.6\n",
      " 48.8 49.  49.2 49.4 49.6 49.8 50.  50.2 50.4 50.6 50.8 51.  51.2 51.4\n",
      " 51.6 51.8 52.  52.2 52.4 52.6 52.8 53.  53.2 53.4 53.6 53.8 54.  54.2\n",
      " 54.4 54.6 54.8 55.  55.2 55.4 55.6 55.8 56.  56.2 56.4 56.6 56.8 57.\n",
      " 57.2 57.4 57.6 57.8 58.  58.2 58.4 58.6 58.8 59.  59.2 59.4 59.6 59.8\n",
      " 60.  60.2 60.4 60.6 60.8 61.  61.2 61.4 61.6 61.8 62.  62.2 62.4 62.6\n",
      " 62.8 63.  63.2 63.4 63.6 63.8 64.  64.2 64.4 64.6 64.8 65.  65.2 65.4\n",
      " 65.6 65.8 66.  66.2 66.4 66.6 66.8 67.  67.2 67.4 67.6 67.8 68.  68.2\n",
      " 68.4 68.6 68.8 69.  69.2 69.4 69.6 69.8 70.  70.2 70.4 70.6 70.8 71.\n",
      " 71.2 71.4 71.6 71.8 72.  72.2 72.4 72.6 72.8 73.  73.2 73.4 73.6 73.8\n",
      " 74.  74.2 74.4 74.6 74.8 75.  75.2 75.4 75.6 75.8 76.  76.2 76.4 76.6\n",
      " 76.8 77.  77.2 77.4 77.6 77.8 78.  78.2 78.4 78.6 78.8 79.  79.2 79.4\n",
      " 79.6 79.8 80. ]\n"
     ]
    }
   ],
   "source": [
    "for phase in model._list_experiment:\n",
    "    print(phase.get_val('observed_data').get_val('tth'))"
   ]
  },
  {
   "cell_type": "markdown",
   "metadata": {},
   "source": [
    "# Use Python Proxy Model "
   ]
  },
  {
   "cell_type": "code",
   "execution_count": 37,
   "metadata": {},
   "outputs": [],
   "source": [
    "pythonModel = PythonModel()\n",
    "pythonModel.load_rhochi_model_and_update_proxy(rcif_file_path)"
   ]
  },
  {
   "cell_type": "code",
   "execution_count": 41,
   "metadata": {},
   "outputs": [
    {
     "name": "stdout",
     "output_type": "stream",
     "text": [
      "cell_length_a {'value': '8.5621', 'error': '', 'refine': False, 'title': 'a (Å)'}\n",
      "cell_length_b {'value': '8.5621', 'error': '', 'refine': False, 'title': 'b (Å)'}\n",
      "cell_length_c {'value': '8.5621', 'error': '', 'refine': False, 'title': 'c (Å)'}\n",
      "cell_angle_alpha {'value': '90.0000', 'error': '', 'refine': False, 'title': 'alpha (Å)'}\n",
      "cell_angle_beta {'value': '90.0000', 'error': '', 'refine': False, 'title': 'beta (Å)'}\n",
      "cell_angle_gamma {'value': '90.0000', 'error': '', 'refine': False, 'title': 'gamma (Å)'}\n",
      "datablock Fe3O4\n"
     ]
    }
   ],
   "source": [
    "for key, value in pythonModel.cell_dict.items():\n",
    "    print(key, value)"
   ]
  },
  {
   "cell_type": "markdown",
   "metadata": {},
   "source": [
    "# Tests"
   ]
  },
  {
   "cell_type": "code",
   "execution_count": 18,
   "metadata": {},
   "outputs": [],
   "source": [
    "data = []\n",
    "m = 3\n",
    "data.append([i for i in range(m)])\n",
    "data.append([random.randrange(1000) for i in range(m)])\n",
    "data.append([0.1 for i in range(m)])\n",
    "data.append([random.randrange(1000) for i in range(m)])"
   ]
  },
  {
   "cell_type": "code",
   "execution_count": 19,
   "metadata": {},
   "outputs": [
    {
     "name": "stdout",
     "output_type": "stream",
     "text": [
      "[[0, 1, 2], [164, 504, 18], [0.1, 0.1, 0.1], [869, 740, 52]]\n"
     ]
    }
   ],
   "source": [
    "print(data)"
   ]
  },
  {
   "cell_type": "code",
   "execution_count": 20,
   "metadata": {},
   "outputs": [
    {
     "name": "stdout",
     "output_type": "stream",
     "text": [
      "[0, 1, 2]\n"
     ]
    }
   ],
   "source": [
    "print(data[0])"
   ]
  },
  {
   "cell_type": "code",
   "execution_count": 21,
   "metadata": {},
   "outputs": [
    {
     "data": {
      "text/plain": [
       "4"
      ]
     },
     "execution_count": 21,
     "metadata": {},
     "output_type": "execute_result"
    }
   ],
   "source": [
    "len(data)"
   ]
  },
  {
   "cell_type": "code",
   "execution_count": 22,
   "metadata": {},
   "outputs": [
    {
     "data": {
      "text/plain": [
       "3"
      ]
     },
     "execution_count": 22,
     "metadata": {},
     "output_type": "execute_result"
    }
   ],
   "source": [
    "len(data[0])"
   ]
  },
  {
   "cell_type": "code",
   "execution_count": 26,
   "metadata": {},
   "outputs": [],
   "source": [
    "P = [[1, 2, 3], [4, 5, 6]]"
   ]
  },
  {
   "cell_type": "code",
   "execution_count": 28,
   "metadata": {},
   "outputs": [
    {
     "data": {
      "text/plain": [
       "[[1, 2, 3], [4, 5, 6]]"
      ]
     },
     "execution_count": 28,
     "metadata": {},
     "output_type": "execute_result"
    }
   ],
   "source": [
    "P"
   ]
  },
  {
   "cell_type": "code",
   "execution_count": 29,
   "metadata": {},
   "outputs": [],
   "source": [
    "P[0] = [7, 8, 9]"
   ]
  },
  {
   "cell_type": "code",
   "execution_count": 30,
   "metadata": {},
   "outputs": [
    {
     "data": {
      "text/plain": [
       "[[7, 8, 9], [4, 5, 6]]"
      ]
     },
     "execution_count": 30,
     "metadata": {},
     "output_type": "execute_result"
    }
   ],
   "source": [
    "P"
   ]
  },
  {
   "cell_type": "code",
   "execution_count": null,
   "metadata": {},
   "outputs": [],
   "source": []
  }
 ],
 "metadata": {
  "kernelspec": {
   "display_name": "Python 3",
   "language": "python",
   "name": "python3"
  },
  "language_info": {
   "codemirror_mode": {
    "name": "ipython",
    "version": 3
   },
   "file_extension": ".py",
   "mimetype": "text/x-python",
   "name": "python",
   "nbconvert_exporter": "python",
   "pygments_lexer": "ipython3",
   "version": "3.7.3"
  },
  "toc": {
   "base_numbering": 1,
   "nav_menu": {},
   "number_sections": true,
   "sideBar": true,
   "skip_h1_title": false,
   "title_cell": "Table of Contents",
   "title_sidebar": "Contents",
   "toc_cell": false,
   "toc_position": {},
   "toc_section_display": true,
   "toc_window_display": true
  }
 },
 "nbformat": 4,
 "nbformat_minor": 2
}
